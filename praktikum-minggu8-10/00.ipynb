{
 "cells": [
  {
   "cell_type": "markdown",
   "id": "0a9259dc-6c4a-46fc-b8ff-d6d3b134b54a",
   "metadata": {},
   "source": [
    "**SAFARA RISDA AGASTYA - A11.2022.14670**"
   ]
  },
  {
   "cell_type": "markdown",
   "id": "452548ca-7326-4394-b933-c6a7c9123df8",
   "metadata": {},
   "source": [
    "**JupyterLab**"
   ]
  },
  {
   "cell_type": "markdown",
   "id": "47af7cd4-ba4f-46b6-9ddd-4803ad7d55cb",
   "metadata": {},
   "source": [
    "<img src=\"jl_launcher.png\">"
   ]
  },
  {
   "cell_type": "markdown",
   "id": "703cf3dc-06e9-46cf-81bc-fd806c838e31",
   "metadata": {},
   "source": [
    "# Highlight this cell and click [Shift+Enter] to execute\n",
    "print('This is just a simple print statement')"
   ]
  },
  {
   "cell_type": "markdown",
   "id": "fe4d384e-3a08-4836-87c7-78d28407cc67",
   "metadata": {},
   "source": [
    "## Clearing GPU Memory"
   ]
  },
  {
   "cell_type": "code",
   "execution_count": 6,
   "id": "0419c41a-eef5-4d9d-86de-02b6613a1197",
   "metadata": {},
   "outputs": [
    {
     "data": {
      "text/plain": [
       "{'status': 'ok', 'restart': True}"
      ]
     },
     "execution_count": 6,
     "metadata": {},
     "output_type": "execute_result"
    }
   ],
   "source": [
    "import IPython\n",
    "app = IPython.Application.instance()\n",
    "app.kernel.do_shutdown(True)"
   ]
  },
  {
   "cell_type": "markdown",
   "id": "fca78ef7-9a85-45b2-9988-0b3366bff137",
   "metadata": {},
   "source": [
    "<a href=\"https://www.nvidia.com/dli\"> <img src=\"DLI_Header.png\" alt=\"Header\" style=\"width: 400px;\"/> </a>"
   ]
  },
  {
   "cell_type": "code",
   "execution_count": null,
   "id": "4aba7f02-3fe8-4e07-a4ee-300e0356cc28",
   "metadata": {},
   "outputs": [],
   "source": []
  }
 ],
 "metadata": {
  "kernelspec": {
   "display_name": "Python 3 (ipykernel)",
   "language": "python",
   "name": "python3"
  },
  "language_info": {
   "codemirror_mode": {
    "name": "ipython",
    "version": 3
   },
   "file_extension": ".py",
   "mimetype": "text/x-python",
   "name": "python",
   "nbconvert_exporter": "python",
   "pygments_lexer": "ipython3",
   "version": "3.11.9"
  }
 },
 "nbformat": 4,
 "nbformat_minor": 5
}
