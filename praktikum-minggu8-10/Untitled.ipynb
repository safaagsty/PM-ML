{
 "cells": [
  {
   "cell_type": "markdown",
   "id": "0a9259dc-6c4a-46fc-b8ff-d6d3b134b54a",
   "metadata": {},
   "source": [
    "**SAFARA RISDA AGASTYA - A11.2022.14670**"
   ]
  },
  {
   "cell_type": "markdown",
   "id": "452548ca-7326-4394-b933-c6a7c9123df8",
   "metadata": {},
   "source": [
    "**JupyterLab**"
   ]
  },
  {
   "cell_type": "markdown",
   "id": "47af7cd4-ba4f-46b6-9ddd-4803ad7d55cb",
   "metadata": {},
   "source": [
    "For this hands-on lab, we use JupyterLab to manage our environment. The JupyterLab Interface is a dashboard that provides access to interactive iPython notebooks, as well as the folder structure of our environment and a terminal window into the Ubuntu operating system. The first view you'll see includes a **menu bar** at the top, a file browser in the **left sidebar**, and a **main work area** that is initially open to the \"Launcher\" page."
   ]
  },
  {
   "cell_type": "markdown",
   "id": "703cf3dc-06e9-46cf-81bc-fd806c838e31",
   "metadata": {},
   "source": []
  }
 ],
 "metadata": {
  "kernelspec": {
   "display_name": "Python 3 (ipykernel)",
   "language": "python",
   "name": "python3"
  },
  "language_info": {
   "codemirror_mode": {
    "name": "ipython",
    "version": 3
   },
   "file_extension": ".py",
   "mimetype": "text/x-python",
   "name": "python",
   "nbconvert_exporter": "python",
   "pygments_lexer": "ipython3",
   "version": "3.11.9"
  }
 },
 "nbformat": 4,
 "nbformat_minor": 5
}
