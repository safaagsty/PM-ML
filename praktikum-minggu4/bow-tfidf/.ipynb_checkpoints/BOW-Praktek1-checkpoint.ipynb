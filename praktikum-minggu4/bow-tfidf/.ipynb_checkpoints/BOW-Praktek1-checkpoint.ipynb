{
 "cells": [
  {
   "cell_type": "markdown",
   "id": "19384ccc-b529-4d05-a8da-558630ac3343",
   "metadata": {},
   "source": [
    "Praktek BOW"
   ]
  },
  {
   "cell_type": "code",
   "execution_count": 1,
   "id": "45a4aa1b-e8ee-4891-8415-5b86ef45b15c",
   "metadata": {},
   "outputs": [],
   "source": [
    "import pandas as pd\n",
    "import numpy as np\n",
    "from sklearn.feature_extraction.text import CountVectorizer"
   ]
  },
  {
   "cell_type": "code",
   "execution_count": 2,
   "id": "4e643ab7-1cec-41cd-b1e6-2e4cf4c3d9aa",
   "metadata": {},
   "outputs": [],
   "source": [
    "dataset = pd.read_csv('movie.csv')"
   ]
  },
  {
   "cell_type": "code",
   "execution_count": 3,
   "id": "183ea3e8-731f-4144-9991-eec8daf084c7",
   "metadata": {},
   "outputs": [
    {
     "data": {
      "text/plain": [
       "(80, 7)"
      ]
     },
     "execution_count": 3,
     "metadata": {},
     "output_type": "execute_result"
    }
   ],
   "source": [
    "dataset.shape"
   ]
  },
  {
   "cell_type": "code",
   "execution_count": 4,
   "id": "de10c501-7e64-48f3-960d-f75b0dd01526",
   "metadata": {},
   "outputs": [
    {
     "data": {
      "text/html": [
       "<div>\n",
       "<style scoped>\n",
       "    .dataframe tbody tr th:only-of-type {\n",
       "        vertical-align: middle;\n",
       "    }\n",
       "\n",
       "    .dataframe tbody tr th {\n",
       "        vertical-align: top;\n",
       "    }\n",
       "\n",
       "    .dataframe thead th {\n",
       "        text-align: right;\n",
       "    }\n",
       "</style>\n",
       "<table border=\"1\" class=\"dataframe\">\n",
       "  <thead>\n",
       "    <tr style=\"text-align: right;\">\n",
       "      <th></th>\n",
       "      <th>lister-item-index</th>\n",
       "      <th>lister-item-header</th>\n",
       "      <th>certificate</th>\n",
       "      <th>runtime</th>\n",
       "      <th>genre</th>\n",
       "      <th>rating</th>\n",
       "      <th>votes</th>\n",
       "    </tr>\n",
       "  </thead>\n",
       "  <tbody>\n",
       "    <tr>\n",
       "      <th>0</th>\n",
       "      <td>1.0</td>\n",
       "      <td>Stranger Things</td>\n",
       "      <td>15</td>\n",
       "      <td>60 min</td>\n",
       "      <td>Drama, Fantasy, Horror</td>\n",
       "      <td>8.7</td>\n",
       "      <td>1,327,188</td>\n",
       "    </tr>\n",
       "    <tr>\n",
       "      <th>1</th>\n",
       "      <td>2.0</td>\n",
       "      <td>13 Reasons Why</td>\n",
       "      <td>18</td>\n",
       "      <td>60 min</td>\n",
       "      <td>Drama, Mystery, Thriller</td>\n",
       "      <td>7.5</td>\n",
       "      <td>314,321</td>\n",
       "    </tr>\n",
       "    <tr>\n",
       "      <th>2</th>\n",
       "      <td>3.0</td>\n",
       "      <td>Orange Is the New Black</td>\n",
       "      <td>18</td>\n",
       "      <td>59 min</td>\n",
       "      <td>Comedy, Crime, Drama</td>\n",
       "      <td>8.0</td>\n",
       "      <td>319,342</td>\n",
       "    </tr>\n",
       "    <tr>\n",
       "      <th>3</th>\n",
       "      <td>4.0</td>\n",
       "      <td>Black Mirror</td>\n",
       "      <td>18</td>\n",
       "      <td>60 min</td>\n",
       "      <td>Drama, Mystery, Sci-Fi</td>\n",
       "      <td>8.7</td>\n",
       "      <td>636,319</td>\n",
       "    </tr>\n",
       "    <tr>\n",
       "      <th>4</th>\n",
       "      <td>5.0</td>\n",
       "      <td>Money Heist</td>\n",
       "      <td>15</td>\n",
       "      <td>60 min</td>\n",
       "      <td>Action, Crime, Drama</td>\n",
       "      <td>8.2</td>\n",
       "      <td>529,086</td>\n",
       "    </tr>\n",
       "  </tbody>\n",
       "</table>\n",
       "</div>"
      ],
      "text/plain": [
       "   lister-item-index       lister-item-header certificate runtime  \\\n",
       "0                1.0          Stranger Things          15  60 min   \n",
       "1                2.0           13 Reasons Why          18  60 min   \n",
       "2                3.0  Orange Is the New Black          18  59 min   \n",
       "3                4.0             Black Mirror          18  60 min   \n",
       "4                5.0              Money Heist          15  60 min   \n",
       "\n",
       "                      genre  rating      votes  \n",
       "0    Drama, Fantasy, Horror     8.7  1,327,188  \n",
       "1  Drama, Mystery, Thriller     7.5    314,321  \n",
       "2      Comedy, Crime, Drama     8.0    319,342  \n",
       "3    Drama, Mystery, Sci-Fi     8.7    636,319  \n",
       "4      Action, Crime, Drama     8.2    529,086  "
      ]
     },
     "execution_count": 4,
     "metadata": {},
     "output_type": "execute_result"
    }
   ],
   "source": [
    "dataset.head()"
   ]
  },
  {
   "cell_type": "code",
   "execution_count": 5,
   "id": "44af2be7-03a8-4da6-9fa2-0db16efedc5a",
   "metadata": {},
   "outputs": [],
   "source": [
    "dataset_feature=dataset['lister-item-header'].astype(str)"
   ]
  },
  {
   "cell_type": "code",
   "execution_count": 6,
   "id": "f13e9fff-0ed8-4084-82e0-24a28ddf5b2e",
   "metadata": {},
   "outputs": [],
   "source": [
    "dataset_label = dataset['rating']"
   ]
  },
  {
   "cell_type": "code",
   "execution_count": 7,
   "id": "139cba74-27af-4a64-99f2-16dee9221bbe",
   "metadata": {},
   "outputs": [
    {
     "data": {
      "text/plain": [
       "0             Stranger Things\n",
       "1              13 Reasons Why\n",
       "2     Orange Is the New Black\n",
       "3                Black Mirror\n",
       "4                 Money Heist\n",
       "               ...           \n",
       "75            F Is for Family\n",
       "76                  The Ranch\n",
       "77            American Vandal\n",
       "78                 Dead to Me\n",
       "79                  Quicksand\n",
       "Name: lister-item-header, Length: 80, dtype: object"
      ]
     },
     "execution_count": 7,
     "metadata": {},
     "output_type": "execute_result"
    }
   ],
   "source": [
    "dataset_feature"
   ]
  },
  {
   "cell_type": "code",
   "execution_count": 8,
   "id": "31266156-35bd-4546-9ae1-1f0265cd4e94",
   "metadata": {},
   "outputs": [
    {
     "data": {
      "text/plain": [
       "0     8.7\n",
       "1     7.5\n",
       "2     8.0\n",
       "3     8.7\n",
       "4     8.2\n",
       "     ... \n",
       "75    8.0\n",
       "76    7.5\n",
       "77    8.1\n",
       "78    7.9\n",
       "79    7.4\n",
       "Name: rating, Length: 80, dtype: float64"
      ]
     },
     "execution_count": 8,
     "metadata": {},
     "output_type": "execute_result"
    }
   ],
   "source": [
    "dataset_label"
   ]
  },
  {
   "cell_type": "code",
   "execution_count": 9,
   "id": "0bd426a9-9c0a-42b3-b440-e4f6b3b28d0f",
   "metadata": {},
   "outputs": [],
   "source": [
    "dataset_label = dataset_label.dropna()"
   ]
  },
  {
   "cell_type": "code",
   "execution_count": 10,
   "id": "858faac3-eaf3-4989-a8c9-4974adfee21d",
   "metadata": {},
   "outputs": [],
   "source": [
    "label_counts = dataset_label.value_counts()"
   ]
  },
  {
   "cell_type": "markdown",
   "id": "7fe241e8-bde2-4b9b-b1de-c210e089184f",
   "metadata": {},
   "source": [
    "Cek distribusi label"
   ]
  },
  {
   "cell_type": "code",
   "execution_count": 11,
   "id": "c0ee19e7-c2b2-4b25-9910-dfbc45d20c28",
   "metadata": {},
   "outputs": [],
   "source": [
    "import matplotlib.pyplot as plt\n",
    "import seaborn as sns\n",
    "%matplotlib inline"
   ]
  },
  {
   "cell_type": "code",
   "execution_count": 12,
   "id": "37b78ad3-4e2b-4233-a47f-7bba9eb6fda8",
   "metadata": {},
   "outputs": [
    {
     "name": "stderr",
     "output_type": "stream",
     "text": [
      "C:\\Users\\62895\\AppData\\Local\\Temp\\ipykernel_35648\\1470841120.py:3: UserWarning: \n",
      "\n",
      "`distplot` is a deprecated function and will be removed in seaborn v0.14.0.\n",
      "\n",
      "Please adapt your code to use either `displot` (a figure-level function with\n",
      "similar flexibility) or `histplot` (an axes-level function for histograms).\n",
      "\n",
      "For a guide to updating your code to use the new functions, please see\n",
      "https://gist.github.com/mwaskom/de44147ed2974457ad6372750bbe5751\n",
      "\n",
      "  sns.distplot(dataset_label, label=f'target, skew: {dataset_label.skew():.2f}')\n"
     ]
    },
    {
     "data": {
      "image/png": "[encoded data removed]",
      "text/plain": [
       "<Figure size 1200x800 with 1 Axes>"
      ]
     },
     "metadata": {},
     "output_type": "display_data"
    }
   ],
   "source": [
    "# Visualizing the target variable\n",
    "plt.figure(figsize=(12,8))\n",
    "sns.distplot(dataset_label, label=f'target, skew: {dataset_label.skew():.2f}')\n",
    "plt.legend(loc='best')\n",
    "plt.show()"
   ]
  },
  {
   "cell_type": "code",
   "execution_count": 13,
   "id": "eed19b22-566e-42dc-a3b5-66325f8b1ce3",
   "metadata": {},
   "outputs": [
    {
     "data": {
      "text/plain": [
       "rating\n",
       "8.2    7\n",
       "8.0    6\n",
       "8.6    5\n",
       "7.2    5\n",
       "8.7    4\n",
       "7.8    4\n",
       "6.7    4\n",
       "8.5    4\n",
       "7.9    4\n",
       "7.7    4\n",
       "7.5    4\n",
       "6.4    3\n",
       "8.4    3\n",
       "7.4    3\n",
       "8.3    2\n",
       "7.3    2\n",
       "7.0    2\n",
       "8.8    2\n",
       "7.6    2\n",
       "7.1    2\n",
       "8.1    2\n",
       "6.3    1\n",
       "6.5    1\n",
       "6.8    1\n",
       "6.6    1\n",
       "5.9    1\n",
       "6.9    1\n",
       "Name: count, dtype: int64"
      ]
     },
     "execution_count": 13,
     "metadata": {},
     "output_type": "execute_result"
    }
   ],
   "source": [
    "dataset_label.value_counts()"
   ]
  },
  {
   "cell_type": "markdown",
   "id": "6f21b789-9684-4a75-9244-6fc5314f8586",
   "metadata": {},
   "source": [
    "BOW"
   ]
  },
  {
   "cell_type": "code",
   "execution_count": 14,
   "id": "34949226-8bbe-4d20-8472-fb3b2e1ae4da",
   "metadata": {},
   "outputs": [
    {
     "name": "stdout",
     "output_type": "stream",
     "text": [
      "13, academy, adventures, altered, american, and, arrested, at, atypical, baby, between, big, black, block, bojack, cable, cage, carbon, cards, castlevania, chilling, clarita, college, crown, daredevil, dark, day, dead, dear, death, defenders, development, diet, disenchantment, doll, down, drag, education, elite, end, events, everything, family, fist, for, frankie, friends, from, fuller, get, gilmore, girlboss, girls, glow, grace, greenhouse, grove, gypsy, haunting, heist, hemlock, hill, hookup, horseman, house, in, ing, insatiable, iron, is, jessica, jones, kimmy, kingdom, last, life, lost, love, lucifer, luke, making, maniac, marco, master, me, mexico, mindhunter, mirror, money, mouth, murderer, my, narcos, new, none, oa, of, on, one, orange, order, ozark, people, plan, polo, protector, punisher, quicksand, race, rain, ranch, reasons, robots, rupaul, russian, sabrina, safe, santa, schmidt, sense8, series, sex, slasher, society, space, stranger, sucks, the, things, time, to, travelers, umbrella, unbreakable, unfortunate, vandal, white, why, world, year, you\n"
     ]
    }
   ],
   "source": [
    "vectorizer = CountVectorizer()\n",
    "X = vectorizer.fit_transform(dataset_feature)\n",
    "feature_names = vectorizer.get_feature_names_out()\n",
    "print(\", \".join(feature_names))"
   ]
  },
  {
   "cell_type": "code",
   "execution_count": 15,
   "id": "d03dee1d-0340-459b-a216-1b6634a90b9c",
   "metadata": {},
   "outputs": [
    {
     "name": "stdout",
     "output_type": "stream",
     "text": [
      "[[0 0 0 ... 0 0 0]\n",
      " [1 0 0 ... 0 0 0]\n",
      " [0 0 0 ... 0 0 0]\n",
      " ...\n",
      " [0 0 0 ... 0 0 0]\n",
      " [0 0 0 ... 0 0 0]\n",
      " [0 0 0 ... 0 0 0]]\n"
     ]
    }
   ],
   "source": [
    "print(X.toarray())"
   ]
  },
  {
   "cell_type": "markdown",
   "id": "53d480fc-cfbf-46cd-81cd-a5271cb6558d",
   "metadata": {},
   "source": [
    "Simulasi Corpus"
   ]
  },
  {
   "cell_type": "code",
   "execution_count": 16,
   "id": "ac2d4613-d606-4b54-a13e-41b69b0beb1f",
   "metadata": {},
   "outputs": [],
   "source": [
    "corpus = [\n",
    "    'Pemerintah telah mengumumkan kebijakan baru terkait perlindungan lingkungan.'\n",
    "    'Para ilmuwan telah menemukan spesies baru kumbang di hutan hujan Amazon.'\n",
    "    'Para peneliti menemukan bahwa pembelajaran daring memiliki dampak positif terhadap prestasi akademik siswa.'\n",
    "    'Menurut penelitian terbaru, penggunaan teknologi telah meningkatkan efisiensi produksi di sektor industri.'\n",
    "    'Pemerintah telah mengumumkan kebijakan baru terkait penanganan pandemi COVID-19.'\n",
    "    'Analisis data menunjukkan peningkatan signifikan dalam penggunaan teknologi dalam kehidupan sehari-hari masyarakat.'\n",
    "    'Peneliti menemukan bahwa pola makan yang sehat dapat mengurangi risiko penyakit jantung.'\n",
    "    'Pemerintah mengumumkan kebijakan baru terkait perlindungan lingkungan untuk mengatasi perubahan iklim global.'\n",
    "]"
   ]
  },
  {
   "cell_type": "code",
   "execution_count": 17,
   "id": "69e22c47-2faa-469c-8c86-7ae073005009",
   "metadata": {},
   "outputs": [],
   "source": [
    "vectorizer = CountVectorizer()"
   ]
  },
  {
   "cell_type": "code",
   "execution_count": 18,
   "id": "b03a8199-9bec-4489-b6bc-9cddb0097511",
   "metadata": {},
   "outputs": [],
   "source": [
    "Z = vectorizer.fit_transform(corpus)"
   ]
  },
  {
   "cell_type": "code",
   "execution_count": 19,
   "id": "3f339a3c-cad8-421a-9873-98b196e9870c",
   "metadata": {},
   "outputs": [
    {
     "data": {
      "text/plain": [
       "array(['19', 'akademik', 'amazon', 'analisis', 'bahwa', 'baru', 'covid',\n",
       "       'dalam', 'dampak', 'dapat', 'daring', 'data', 'di', 'efisiensi',\n",
       "       'global', 'hari', 'hujan', 'hutan', 'iklim', 'ilmuwan', 'industri',\n",
       "       'jantung', 'kebijakan', 'kehidupan', 'kumbang', 'lingkungan',\n",
       "       'makan', 'masyarakat', 'memiliki', 'menemukan', 'mengatasi',\n",
       "       'mengumumkan', 'mengurangi', 'meningkatkan', 'menunjukkan',\n",
       "       'menurut', 'pandemi', 'para', 'pembelajaran', 'pemerintah',\n",
       "       'penanganan', 'peneliti', 'penelitian', 'penggunaan',\n",
       "       'peningkatan', 'penyakit', 'perlindungan', 'perubahan', 'pola',\n",
       "       'positif', 'prestasi', 'produksi', 'risiko', 'sehari', 'sehat',\n",
       "       'sektor', 'signifikan', 'siswa', 'spesies', 'teknologi', 'telah',\n",
       "       'terbaru', 'terhadap', 'terkait', 'untuk', 'yang'], dtype=object)"
      ]
     },
     "execution_count": 19,
     "metadata": {},
     "output_type": "execute_result"
    }
   ],
   "source": [
    "vectorizer.get_feature_names_out()"
   ]
  },
  {
   "cell_type": "code",
   "execution_count": 20,
   "id": "7552a97f-816b-4a88-875c-dc66121ce24e",
   "metadata": {},
   "outputs": [
    {
     "name": "stdout",
     "output_type": "stream",
     "text": [
      "[[1 1 1 1 2 4 1 2 1 1 1 1 2 1 1 1 1 1 1 1 1 1 3 1 1 2 1 1 1 3 1 3 1 1 1 1\n",
      "  1 2 1 3 1 2 1 2 1 1 2 1 1 1 1 1 1 1 1 1 1 1 1 2 4 1 1 3 1 1]]\n"
     ]
    }
   ],
   "source": [
    "print(Z.toarray())"
   ]
  },
  {
   "cell_type": "code",
   "execution_count": 21,
   "id": "93931826-36cc-4d49-8ff0-9a3ba3e9289f",
   "metadata": {},
   "outputs": [],
   "source": [
    "vectorizer2 = CountVectorizer(analyzer='word', ngram_range=(2, 2))"
   ]
  },
  {
   "cell_type": "code",
   "execution_count": 22,
   "id": "4f835ee9-cea6-4a03-9a6e-7590ca5fc701",
   "metadata": {},
   "outputs": [],
   "source": [
    "Z2 = vectorizer2.fit_transform(corpus)"
   ]
  },
  {
   "cell_type": "code",
   "execution_count": 23,
   "id": "df7b82d8-75c9-4982-9e5e-ff67ef6e4e3b",
   "metadata": {},
   "outputs": [
    {
     "data": {
      "text/plain": [
       "array(['19 analisis', 'akademik siswa', 'amazon para', 'analisis data',\n",
       "       'bahwa pembelajaran', 'bahwa pola', 'baru kumbang', 'baru terkait',\n",
       "       'covid 19', 'dalam kehidupan', 'dalam penggunaan',\n",
       "       'dampak positif', 'dapat mengurangi', 'daring memiliki',\n",
       "       'data menunjukkan', 'di hutan', 'di sektor', 'efisiensi produksi',\n",
       "       'hari masyarakat', 'hujan amazon', 'hutan hujan', 'iklim global',\n",
       "       'ilmuwan telah', 'industri pemerintah', 'jantung pemerintah',\n",
       "       'kebijakan baru', 'kehidupan sehari', 'kumbang di',\n",
       "       'lingkungan para', 'lingkungan untuk', 'makan yang',\n",
       "       'masyarakat peneliti', 'memiliki dampak', 'menemukan bahwa',\n",
       "       'menemukan spesies', 'mengatasi perubahan',\n",
       "       'mengumumkan kebijakan', 'mengurangi risiko',\n",
       "       'meningkatkan efisiensi', 'menunjukkan peningkatan',\n",
       "       'menurut penelitian', 'pandemi covid', 'para ilmuwan',\n",
       "       'para peneliti', 'pembelajaran daring', 'pemerintah mengumumkan',\n",
       "       'pemerintah telah', 'penanganan pandemi', 'peneliti menemukan',\n",
       "       'penelitian terbaru', 'penggunaan teknologi',\n",
       "       'peningkatan signifikan', 'penyakit jantung',\n",
       "       'perlindungan lingkungan', 'perubahan iklim', 'pola makan',\n",
       "       'positif terhadap', 'prestasi akademik', 'produksi di',\n",
       "       'risiko penyakit', 'sehari hari', 'sehat dapat', 'sektor industri',\n",
       "       'signifikan dalam', 'siswa menurut', 'spesies baru',\n",
       "       'teknologi dalam', 'teknologi telah', 'telah menemukan',\n",
       "       'telah mengumumkan', 'telah meningkatkan', 'terbaru penggunaan',\n",
       "       'terhadap prestasi', 'terkait penanganan', 'terkait perlindungan',\n",
       "       'untuk mengatasi', 'yang sehat'], dtype=object)"
      ]
     },
     "execution_count": 23,
     "metadata": {},
     "output_type": "execute_result"
    }
   ],
   "source": [
    "vectorizer2.get_feature_names_out()"
   ]
  },
  {
   "cell_type": "code",
   "execution_count": 27,
   "id": "0f1cce17-cf3a-48b7-86b0-714fd5d69900",
   "metadata": {},
   "outputs": [
    {
     "name": "stdout",
     "output_type": "stream",
     "text": [
      "[[1 1 1 1 1 1 1 3 1 1 1 1 1 1 1 1 1 1 1 1 1 1 1 1 1 3 1 1 1 1 1 1 1 2 1 1\n",
      "  3 1 1 1 1 1 1 1 1 1 2 1 2 1 2 1 1 2 1 1 1 1 1 1 1 1 1 1 1 1 1 1 1 2 1 1\n",
      "  1 1 2 1 1]]\n"
     ]
    }
   ],
   "source": [
    "print(Z2.toarray())"
   ]
  },
  {
   "cell_type": "code",
   "execution_count": null,
   "id": "51137423-92f6-46ea-a79c-67c3d3debd73",
   "metadata": {},
   "outputs": [],
   "source": []
  }
 ],
 "metadata": {
  "kernelspec": {
   "display_name": "Python 3 (ipykernel)",
   "language": "python",
   "name": "python3"
  },
  "language_info": {
   "codemirror_mode": {
    "name": "ipython",
    "version": 3
   },
   "file_extension": ".py",
   "mimetype": "text/x-python",
   "name": "python",
   "nbconvert_exporter": "python",
   "pygments_lexer": "ipython3",
   "version": "3.11.9"
  }
 },
 "nbformat": 4,
 "nbformat_minor": 5
}
