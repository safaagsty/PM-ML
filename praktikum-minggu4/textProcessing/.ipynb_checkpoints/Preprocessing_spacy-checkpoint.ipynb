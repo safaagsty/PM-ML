{
 "cells": [
  {
   "cell_type": "markdown",
   "id": "56370178-e9e9-41d1-99f9-38c2a276a9ee",
   "metadata": {},
   "source": [
    "## Preprocessing Menggunakan Spacy ##\n",
    "- Mengenai NLTK"
   ]
  },
  {
   "cell_type": "code",
   "execution_count": 1,
   "id": "3494f250-bb2f-42e5-abc1-4e1fb2d608d2",
   "metadata": {},
   "outputs": [],
   "source": [
    "# token\n",
    "import nltk\n",
    "from nltk.tokenize import word_tokenize "
   ]
  },
  {
   "cell_type": "code",
   "execution_count": 2,
   "id": "b75c85f2-e969-4614-9a2c-a0d470aa663b",
   "metadata": {},
   "outputs": [],
   "source": [
    "def word_tokenize_wrapper(text):\n",
    " return word_tokenize(text)"
   ]
  },
  {
   "cell_type": "code",
   "execution_count": 3,
   "id": "34055ff2-fe97-4b21-9ba5-062a1ed67a2e",
   "metadata": {},
   "outputs": [],
   "source": [
    "teks_nltk = word_tokenize_wrapper('Kebutuhan akan pendidikan yang berkualitas menjadi salah satu fokus utama dalam pembangunan masa depan.')"
   ]
  },
  {
   "cell_type": "code",
   "execution_count": 4,
   "id": "edc89114-4a1b-4512-8665-12f0ed6f6b8b",
   "metadata": {},
   "outputs": [
    {
     "data": {
      "text/plain": [
       "['Kebutuhan',\n",
       " 'akan',\n",
       " 'pendidikan',\n",
       " 'yang',\n",
       " 'berkualitas',\n",
       " 'menjadi',\n",
       " 'salah',\n",
       " 'satu',\n",
       " 'fokus',\n",
       " 'utama',\n",
       " 'dalam',\n",
       " 'pembangunan',\n",
       " 'masa',\n",
       " 'depan',\n",
       " '.']"
      ]
     },
     "execution_count": 4,
     "metadata": {},
     "output_type": "execute_result"
    }
   ],
   "source": [
    "teks_nltk"
   ]
  },
  {
   "cell_type": "markdown",
   "id": "6b5c898c-0890-4fbf-885b-0c4303ca2284",
   "metadata": {},
   "source": [
    "- Memakai spacy"
   ]
  },
  {
   "cell_type": "code",
   "execution_count": 5,
   "id": "cc2c6746-4f0f-45cf-a0d4-19f3f761e4f1",
   "metadata": {},
   "outputs": [
    {
     "name": "stdout",
     "output_type": "stream",
     "text": [
      "Requirement already satisfied: spacy in c:\\users\\62895\\appdata\\local\\packages\\pythonsoftwarefoundation.python.3.11_qbz5n2kfra8p0\\localcache\\local-packages\\python311\\site-packages (3.7.4)\n",
      "Requirement already satisfied: spacy-legacy<3.1.0,>=3.0.11 in c:\\users\\62895\\appdata\\local\\packages\\pythonsoftwarefoundation.python.3.11_qbz5n2kfra8p0\\localcache\\local-packages\\python311\\site-packages (from spacy) (3.0.12)\n",
      "Requirement already satisfied: spacy-loggers<2.0.0,>=1.0.0 in c:\\users\\62895\\appdata\\local\\packages\\pythonsoftwarefoundation.python.3.11_qbz5n2kfra8p0\\localcache\\local-packages\\python311\\site-packages (from spacy) (1.0.5)\n",
      "Requirement already satisfied: murmurhash<1.1.0,>=0.28.0 in c:\\users\\62895\\appdata\\local\\packages\\pythonsoftwarefoundation.python.3.11_qbz5n2kfra8p0\\localcache\\local-packages\\python311\\site-packages (from spacy) (1.0.10)\n",
      "Requirement already satisfied: cymem<2.1.0,>=2.0.2 in c:\\users\\62895\\appdata\\local\\packages\\pythonsoftwarefoundation.python.3.11_qbz5n2kfra8p0\\localcache\\local-packages\\python311\\site-packages (from spacy) (2.0.8)\n",
      "Requirement already satisfied: preshed<3.1.0,>=3.0.2 in c:\\users\\62895\\appdata\\local\\packages\\pythonsoftwarefoundation.python.3.11_qbz5n2kfra8p0\\localcache\\local-packages\\python311\\site-packages (from spacy) (3.0.9)\n",
      "Requirement already satisfied: thinc<8.3.0,>=8.2.2 in c:\\users\\62895\\appdata\\local\\packages\\pythonsoftwarefoundation.python.3.11_qbz5n2kfra8p0\\localcache\\local-packages\\python311\\site-packages (from spacy) (8.2.3)\n",
      "Requirement already satisfied: wasabi<1.2.0,>=0.9.1 in c:\\users\\62895\\appdata\\local\\packages\\pythonsoftwarefoundation.python.3.11_qbz5n2kfra8p0\\localcache\\local-packages\\python311\\site-packages (from spacy) (1.1.2)\n",
      "Requirement already satisfied: srsly<3.0.0,>=2.4.3 in c:\\users\\62895\\appdata\\local\\packages\\pythonsoftwarefoundation.python.3.11_qbz5n2kfra8p0\\localcache\\local-packages\\python311\\site-packages (from spacy) (2.4.8)\n",
      "Requirement already satisfied: catalogue<2.1.0,>=2.0.6 in c:\\users\\62895\\appdata\\local\\packages\\pythonsoftwarefoundation.python.3.11_qbz5n2kfra8p0\\localcache\\local-packages\\python311\\site-packages (from spacy) (2.0.10)\n",
      "Requirement already satisfied: weasel<0.4.0,>=0.1.0 in c:\\users\\62895\\appdata\\local\\packages\\pythonsoftwarefoundation.python.3.11_qbz5n2kfra8p0\\localcache\\local-packages\\python311\\site-packages (from spacy) (0.3.4)\n",
      "Requirement already satisfied: typer<0.10.0,>=0.3.0 in c:\\users\\62895\\appdata\\local\\packages\\pythonsoftwarefoundation.python.3.11_qbz5n2kfra8p0\\localcache\\local-packages\\python311\\site-packages (from spacy) (0.9.4)\n",
      "Requirement already satisfied: smart-open<7.0.0,>=5.2.1 in c:\\users\\62895\\appdata\\local\\packages\\pythonsoftwarefoundation.python.3.11_qbz5n2kfra8p0\\localcache\\local-packages\\python311\\site-packages (from spacy) (6.4.0)\n",
      "Requirement already satisfied: tqdm<5.0.0,>=4.38.0 in c:\\users\\62895\\appdata\\local\\packages\\pythonsoftwarefoundation.python.3.11_qbz5n2kfra8p0\\localcache\\local-packages\\python311\\site-packages (from spacy) (4.66.2)\n",
      "Requirement already satisfied: requests<3.0.0,>=2.13.0 in c:\\users\\62895\\appdata\\local\\packages\\pythonsoftwarefoundation.python.3.11_qbz5n2kfra8p0\\localcache\\local-packages\\python311\\site-packages (from spacy) (2.31.0)\n",
      "Requirement already satisfied: pydantic!=1.8,!=1.8.1,<3.0.0,>=1.7.4 in c:\\users\\62895\\appdata\\local\\packages\\pythonsoftwarefoundation.python.3.11_qbz5n2kfra8p0\\localcache\\local-packages\\python311\\site-packages (from spacy) (2.7.0)\n",
      "Requirement already satisfied: jinja2 in c:\\users\\62895\\appdata\\local\\packages\\pythonsoftwarefoundation.python.3.11_qbz5n2kfra8p0\\localcache\\local-packages\\python311\\site-packages (from spacy) (3.1.3)\n",
      "Requirement already satisfied: setuptools in c:\\program files\\windowsapps\\pythonsoftwarefoundation.python.3.11_3.11.2544.0_x64__qbz5n2kfra8p0\\lib\\site-packages (from spacy) (65.5.0)\n",
      "Requirement already satisfied: packaging>=20.0 in c:\\users\\62895\\appdata\\local\\packages\\pythonsoftwarefoundation.python.3.11_qbz5n2kfra8p0\\localcache\\local-packages\\python311\\site-packages (from spacy) (24.0)\n",
      "Requirement already satisfied: langcodes<4.0.0,>=3.2.0 in c:\\users\\62895\\appdata\\local\\packages\\pythonsoftwarefoundation.python.3.11_qbz5n2kfra8p0\\localcache\\local-packages\\python311\\site-packages (from spacy) (3.3.0)\n",
      "Requirement already satisfied: numpy>=1.19.0 in c:\\users\\62895\\appdata\\local\\packages\\pythonsoftwarefoundation.python.3.11_qbz5n2kfra8p0\\localcache\\local-packages\\python311\\site-packages (from spacy) (1.26.4)\n",
      "Requirement already satisfied: annotated-types>=0.4.0 in c:\\users\\62895\\appdata\\local\\packages\\pythonsoftwarefoundation.python.3.11_qbz5n2kfra8p0\\localcache\\local-packages\\python311\\site-packages (from pydantic!=1.8,!=1.8.1,<3.0.0,>=1.7.4->spacy) (0.6.0)\n",
      "Requirement already satisfied: pydantic-core==2.18.1 in c:\\users\\62895\\appdata\\local\\packages\\pythonsoftwarefoundation.python.3.11_qbz5n2kfra8p0\\localcache\\local-packages\\python311\\site-packages (from pydantic!=1.8,!=1.8.1,<3.0.0,>=1.7.4->spacy) (2.18.1)\n",
      "Requirement already satisfied: typing-extensions>=4.6.1 in c:\\users\\62895\\appdata\\local\\packages\\pythonsoftwarefoundation.python.3.11_qbz5n2kfra8p0\\localcache\\local-packages\\python311\\site-packages (from pydantic!=1.8,!=1.8.1,<3.0.0,>=1.7.4->spacy) (4.11.0)\n",
      "Requirement already satisfied: charset-normalizer<4,>=2 in c:\\users\\62895\\appdata\\local\\packages\\pythonsoftwarefoundation.python.3.11_qbz5n2kfra8p0\\localcache\\local-packages\\python311\\site-packages (from requests<3.0.0,>=2.13.0->spacy) (3.3.2)\n",
      "Requirement already satisfied: idna<4,>=2.5 in c:\\users\\62895\\appdata\\local\\packages\\pythonsoftwarefoundation.python.3.11_qbz5n2kfra8p0\\localcache\\local-packages\\python311\\site-packages (from requests<3.0.0,>=2.13.0->spacy) (3.6)\n",
      "Requirement already satisfied: urllib3<3,>=1.21.1 in c:\\users\\62895\\appdata\\local\\packages\\pythonsoftwarefoundation.python.3.11_qbz5n2kfra8p0\\localcache\\local-packages\\python311\\site-packages (from requests<3.0.0,>=2.13.0->spacy) (2.2.1)\n",
      "Requirement already satisfied: certifi>=2017.4.17 in c:\\users\\62895\\appdata\\local\\packages\\pythonsoftwarefoundation.python.3.11_qbz5n2kfra8p0\\localcache\\local-packages\\python311\\site-packages (from requests<3.0.0,>=2.13.0->spacy) (2024.2.2)\n",
      "Requirement already satisfied: blis<0.8.0,>=0.7.8 in c:\\users\\62895\\appdata\\local\\packages\\pythonsoftwarefoundation.python.3.11_qbz5n2kfra8p0\\localcache\\local-packages\\python311\\site-packages (from thinc<8.3.0,>=8.2.2->spacy) (0.7.11)\n",
      "Requirement already satisfied: confection<1.0.0,>=0.0.1 in c:\\users\\62895\\appdata\\local\\packages\\pythonsoftwarefoundation.python.3.11_qbz5n2kfra8p0\\localcache\\local-packages\\python311\\site-packages (from thinc<8.3.0,>=8.2.2->spacy) (0.1.4)\n",
      "Requirement already satisfied: colorama in c:\\users\\62895\\appdata\\local\\packages\\pythonsoftwarefoundation.python.3.11_qbz5n2kfra8p0\\localcache\\local-packages\\python311\\site-packages (from tqdm<5.0.0,>=4.38.0->spacy) (0.4.6)\n",
      "Requirement already satisfied: click<9.0.0,>=7.1.1 in c:\\users\\62895\\appdata\\local\\packages\\pythonsoftwarefoundation.python.3.11_qbz5n2kfra8p0\\localcache\\local-packages\\python311\\site-packages (from typer<0.10.0,>=0.3.0->spacy) (8.1.7)\n",
      "Requirement already satisfied: cloudpathlib<0.17.0,>=0.7.0 in c:\\users\\62895\\appdata\\local\\packages\\pythonsoftwarefoundation.python.3.11_qbz5n2kfra8p0\\localcache\\local-packages\\python311\\site-packages (from weasel<0.4.0,>=0.1.0->spacy) (0.16.0)\n",
      "Requirement already satisfied: MarkupSafe>=2.0 in c:\\users\\62895\\appdata\\local\\packages\\pythonsoftwarefoundation.python.3.11_qbz5n2kfra8p0\\localcache\\local-packages\\python311\\site-packages (from jinja2->spacy) (2.1.5)\n"
     ]
    }
   ],
   "source": [
    "!pip install spacy"
   ]
  },
  {
   "cell_type": "code",
   "execution_count": 6,
   "id": "1b43fe4d-be23-41eb-91b4-3ab8a075d520",
   "metadata": {},
   "outputs": [],
   "source": [
    "from spacy.lang.id import Indonesian\n",
    "import spacy\n",
    "\n",
    "nlp = Indonesian()  # use directly\n",
    "nlp = spacy.blank('id')  # blank instance'\n",
    "Teks = nlp('Kebutuhan akan pendidikan yang berkualitas menjadi salah satu fokus utama dalam pembangunan masa depan.')"
   ]
  },
  {
   "cell_type": "code",
   "execution_count": 7,
   "id": "f4f309e8-e23c-4aea-a8ad-240c60c11562",
   "metadata": {},
   "outputs": [
    {
     "data": {
      "text/plain": [
       "['Kebutuhan',\n",
       " 'akan',\n",
       " 'pendidikan',\n",
       " 'yang',\n",
       " 'berkualitas',\n",
       " 'menjadi',\n",
       " 'salah',\n",
       " 'satu',\n",
       " 'fokus',\n",
       " 'utama',\n",
       " 'dalam',\n",
       " 'pembangunan',\n",
       " 'masa',\n",
       " 'depan',\n",
       " '.']"
      ]
     },
     "execution_count": 7,
     "metadata": {},
     "output_type": "execute_result"
    }
   ],
   "source": [
    "Token_kata = [token.text for token in Teks]\n",
    "Token_kata"
   ]
  },
  {
   "cell_type": "markdown",
   "id": "faf2ed2f-501a-489d-b4a7-53c39387240b",
   "metadata": {},
   "source": [
    "- load library"
   ]
  },
  {
   "cell_type": "code",
   "execution_count": 8,
   "id": "e65243b8-40c3-40c7-904b-a2daf28ee040",
   "metadata": {},
   "outputs": [],
   "source": [
    "import re\n",
    "import string\n",
    "import time\n",
    "from copy import deepcopy"
   ]
  },
  {
   "cell_type": "markdown",
   "id": "8ae35b35-585d-4052-9382-5d54c1b6627e",
   "metadata": {},
   "source": [
    "- load dataset"
   ]
  },
  {
   "cell_type": "code",
   "execution_count": 9,
   "id": "27dcbf50-28b2-45d7-8bbb-2e32008b247d",
   "metadata": {},
   "outputs": [],
   "source": [
    "import pandas as pd"
   ]
  },
  {
   "cell_type": "code",
   "execution_count": 11,
   "id": "68db5cec-d8c3-4cdc-a06d-840b7627e4a7",
   "metadata": {},
   "outputs": [],
   "source": [
    "df = pd.read_csv('review_mpaspor.csv')"
   ]
  },
  {
   "cell_type": "code",
   "execution_count": 12,
   "id": "33d1e2d1-fee6-4a90-8113-d7271633b58f",
   "metadata": {},
   "outputs": [
    {
     "data": {
      "text/html": [
       "<div>\n",
       "<style scoped>\n",
       "    .dataframe tbody tr th:only-of-type {\n",
       "        vertical-align: middle;\n",
       "    }\n",
       "\n",
       "    .dataframe tbody tr th {\n",
       "        vertical-align: top;\n",
       "    }\n",
       "\n",
       "    .dataframe thead th {\n",
       "        text-align: right;\n",
       "    }\n",
       "</style>\n",
       "<table border=\"1\" class=\"dataframe\">\n",
       "  <thead>\n",
       "    <tr style=\"text-align: right;\">\n",
       "      <th></th>\n",
       "      <th>userName</th>\n",
       "      <th>score</th>\n",
       "      <th>at</th>\n",
       "      <th>content</th>\n",
       "    </tr>\n",
       "  </thead>\n",
       "  <tbody>\n",
       "    <tr>\n",
       "      <th>0</th>\n",
       "      <td>Anggun Virly channel</td>\n",
       "      <td>1</td>\n",
       "      <td>2024-01-05 22:03:03</td>\n",
       "      <td>Kode billing tidak ada</td>\n",
       "    </tr>\n",
       "    <tr>\n",
       "      <th>1</th>\n",
       "      <td>Juni Arjuna</td>\n",
       "      <td>1</td>\n",
       "      <td>2024-01-05 16:47:02</td>\n",
       "      <td>App nya saya mohon di perbaiki,saya udh log-in...</td>\n",
       "    </tr>\n",
       "    <tr>\n",
       "      <th>2</th>\n",
       "      <td>Khamdan Ambari</td>\n",
       "      <td>1</td>\n",
       "      <td>2024-01-05 15:54:11</td>\n",
       "      <td>Maksudnya apa ini qplikasi, kirain bisa memban...</td>\n",
       "    </tr>\n",
       "    <tr>\n",
       "      <th>3</th>\n",
       "      <td>Antika Yosa Fitri</td>\n",
       "      <td>1</td>\n",
       "      <td>2024-01-05 15:14:19</td>\n",
       "      <td>Bikin aplikasi, bukan memudahkan tetapi bikin ...</td>\n",
       "    </tr>\n",
       "    <tr>\n",
       "      <th>4</th>\n",
       "      <td>PENDAKI PAM chanel</td>\n",
       "      <td>1</td>\n",
       "      <td>2024-01-05 11:15:01</td>\n",
       "      <td>aplikasi makan sagu Rakyat miskin</td>\n",
       "    </tr>\n",
       "  </tbody>\n",
       "</table>\n",
       "</div>"
      ],
      "text/plain": [
       "               userName  score                   at  \\\n",
       "0  Anggun Virly channel      1  2024-01-05 22:03:03   \n",
       "1           Juni Arjuna      1  2024-01-05 16:47:02   \n",
       "2        Khamdan Ambari      1  2024-01-05 15:54:11   \n",
       "3     Antika Yosa Fitri      1  2024-01-05 15:14:19   \n",
       "4    PENDAKI PAM chanel      1  2024-01-05 11:15:01   \n",
       "\n",
       "                                             content  \n",
       "0                             Kode billing tidak ada  \n",
       "1  App nya saya mohon di perbaiki,saya udh log-in...  \n",
       "2  Maksudnya apa ini qplikasi, kirain bisa memban...  \n",
       "3  Bikin aplikasi, bukan memudahkan tetapi bikin ...  \n",
       "4                  aplikasi makan sagu Rakyat miskin  "
      ]
     },
     "execution_count": 12,
     "metadata": {},
     "output_type": "execute_result"
    }
   ],
   "source": [
    "df.head()"
   ]
  },
  {
   "cell_type": "code",
   "execution_count": 13,
   "id": "fac6fa66-0246-402d-8c64-88d3a68d5c3f",
   "metadata": {},
   "outputs": [],
   "source": [
    "df = df.drop(['score','at'],axis=1)"
   ]
  },
  {
   "cell_type": "code",
   "execution_count": 14,
   "id": "e9b883ad-5bc3-4527-bcc9-ebe08bcd4d9d",
   "metadata": {},
   "outputs": [
    {
     "data": {
      "text/html": [
       "<div>\n",
       "<style scoped>\n",
       "    .dataframe tbody tr th:only-of-type {\n",
       "        vertical-align: middle;\n",
       "    }\n",
       "\n",
       "    .dataframe tbody tr th {\n",
       "        vertical-align: top;\n",
       "    }\n",
       "\n",
       "    .dataframe thead th {\n",
       "        text-align: right;\n",
       "    }\n",
       "</style>\n",
       "<table border=\"1\" class=\"dataframe\">\n",
       "  <thead>\n",
       "    <tr style=\"text-align: right;\">\n",
       "      <th></th>\n",
       "      <th>userName</th>\n",
       "      <th>content</th>\n",
       "    </tr>\n",
       "  </thead>\n",
       "  <tbody>\n",
       "    <tr>\n",
       "      <th>0</th>\n",
       "      <td>Anggun Virly channel</td>\n",
       "      <td>Kode billing tidak ada</td>\n",
       "    </tr>\n",
       "    <tr>\n",
       "      <th>1</th>\n",
       "      <td>Juni Arjuna</td>\n",
       "      <td>App nya saya mohon di perbaiki,saya udh log-in...</td>\n",
       "    </tr>\n",
       "    <tr>\n",
       "      <th>2</th>\n",
       "      <td>Khamdan Ambari</td>\n",
       "      <td>Maksudnya apa ini qplikasi, kirain bisa memban...</td>\n",
       "    </tr>\n",
       "    <tr>\n",
       "      <th>3</th>\n",
       "      <td>Antika Yosa Fitri</td>\n",
       "      <td>Bikin aplikasi, bukan memudahkan tetapi bikin ...</td>\n",
       "    </tr>\n",
       "    <tr>\n",
       "      <th>4</th>\n",
       "      <td>PENDAKI PAM chanel</td>\n",
       "      <td>aplikasi makan sagu Rakyat miskin</td>\n",
       "    </tr>\n",
       "    <tr>\n",
       "      <th>...</th>\n",
       "      <td>...</td>\n",
       "      <td>...</td>\n",
       "    </tr>\n",
       "    <tr>\n",
       "      <th>12494</th>\n",
       "      <td>Sukirno Nur</td>\n",
       "      <td>Mantabbbb</td>\n",
       "    </tr>\n",
       "    <tr>\n",
       "      <th>12495</th>\n",
       "      <td>Ifan Sastra Hirata</td>\n",
       "      <td>Tidak ditemukan Kanim di lokasi anda</td>\n",
       "    </tr>\n",
       "    <tr>\n",
       "      <th>12496</th>\n",
       "      <td>Handriyanti</td>\n",
       "      <td>Lemot bgt pas milih lokasi pengambilan paspor ...</td>\n",
       "    </tr>\n",
       "    <tr>\n",
       "      <th>12497</th>\n",
       "      <td>Ibnu Prayudha Pangestu</td>\n",
       "      <td>Aplikasi ini sangat membantu bagi saya yang me...</td>\n",
       "    </tr>\n",
       "    <tr>\n",
       "      <th>12498</th>\n",
       "      <td>H A K I M</td>\n",
       "      <td>Masih trial ya... Di banyuwangi sudah ada kant...</td>\n",
       "    </tr>\n",
       "  </tbody>\n",
       "</table>\n",
       "<p>12499 rows × 2 columns</p>\n",
       "</div>"
      ],
      "text/plain": [
       "                     userName  \\\n",
       "0        Anggun Virly channel   \n",
       "1                 Juni Arjuna   \n",
       "2              Khamdan Ambari   \n",
       "3           Antika Yosa Fitri   \n",
       "4          PENDAKI PAM chanel   \n",
       "...                       ...   \n",
       "12494             Sukirno Nur   \n",
       "12495      Ifan Sastra Hirata   \n",
       "12496             Handriyanti   \n",
       "12497  Ibnu Prayudha Pangestu   \n",
       "12498               H A K I M   \n",
       "\n",
       "                                                 content  \n",
       "0                                 Kode billing tidak ada  \n",
       "1      App nya saya mohon di perbaiki,saya udh log-in...  \n",
       "2      Maksudnya apa ini qplikasi, kirain bisa memban...  \n",
       "3      Bikin aplikasi, bukan memudahkan tetapi bikin ...  \n",
       "4                      aplikasi makan sagu Rakyat miskin  \n",
       "...                                                  ...  \n",
       "12494                                          Mantabbbb  \n",
       "12495               Tidak ditemukan Kanim di lokasi anda  \n",
       "12496  Lemot bgt pas milih lokasi pengambilan paspor ...  \n",
       "12497  Aplikasi ini sangat membantu bagi saya yang me...  \n",
       "12498  Masih trial ya... Di banyuwangi sudah ada kant...  \n",
       "\n",
       "[12499 rows x 2 columns]"
      ]
     },
     "execution_count": 14,
     "metadata": {},
     "output_type": "execute_result"
    }
   ],
   "source": [
    "df"
   ]
  },
  {
   "cell_type": "code",
   "execution_count": 15,
   "id": "41abf9ce-82a3-49e4-9095-35abb50aae7c",
   "metadata": {},
   "outputs": [
    {
     "name": "stdout",
     "output_type": "stream",
     "text": [
      "<class 'pandas.core.frame.DataFrame'>\n",
      "RangeIndex: 12499 entries, 0 to 12498\n",
      "Data columns (total 2 columns):\n",
      " #   Column    Non-Null Count  Dtype \n",
      "---  ------    --------------  ----- \n",
      " 0   userName  12499 non-null  object\n",
      " 1   content   12499 non-null  object\n",
      "dtypes: object(2)\n",
      "memory usage: 195.4+ KB\n"
     ]
    }
   ],
   "source": [
    "df.info()"
   ]
  },
  {
   "cell_type": "markdown",
   "id": "4ec6ecba-a8d8-4e23-9f95-695a5b2bd366",
   "metadata": {},
   "source": [
    "- preprocessing dataset"
   ]
  },
  {
   "cell_type": "code",
   "execution_count": 17,
   "id": "604b6779-6b7a-4d1e-9d2f-1d35af0d1d73",
   "metadata": {},
   "outputs": [],
   "source": [
    "#!pip install ekphrasis"
   ]
  },
  {
   "cell_type": "code",
   "execution_count": 18,
   "id": "ade9ef87-dc99-4d46-aa69-6b1983d47841",
   "metadata": {},
   "outputs": [
    {
     "name": "stderr",
     "output_type": "stream",
     "text": [
      "C:\\Users\\62895\\AppData\\Local\\Packages\\PythonSoftwareFoundation.Python.3.11_qbz5n2kfra8p0\\LocalCache\\local-packages\\Python311\\site-packages\\ekphrasis\\classes\\tokenizer.py:225: FutureWarning: Possible nested set at position 2190\n",
      "  self.tok = re.compile(r\"({})\".format(\"|\".join(pipeline)))\n"
     ]
    },
    {
     "name": "stdout",
     "output_type": "stream",
     "text": [
      "Reading twitter - 1grams ...\n",
      "Reading twitter - 2grams ...\n",
      "Reading twitter - 1grams ...\n"
     ]
    },
    {
     "name": "stderr",
     "output_type": "stream",
     "text": [
      "C:\\Users\\62895\\AppData\\Local\\Packages\\PythonSoftwareFoundation.Python.3.11_qbz5n2kfra8p0\\LocalCache\\local-packages\\Python311\\site-packages\\ekphrasis\\classes\\exmanager.py:14: FutureWarning: Possible nested set at position 42\n",
      "  regexes = {k.lower(): re.compile(self.expressions[k]) for k, v in\n"
     ]
    }
   ],
   "source": [
    "from ekphrasis.classes.preprocessor import TextPreProcessor\n",
    "from ekphrasis.classes.tokenizer import SocialTokenizer\n",
    "from ekphrasis.dicts.emoticons import emoticons\n",
    "\n",
    "text_processor = TextPreProcessor(\n",
    "    # terms that will be normalized\n",
    "    normalize=['email', 'percent', 'money', 'phone', 'user',\n",
    "        'time', 'date', 'number'],\n",
    "    # terms that will be annotated\n",
    "    #annotate={\"hashtag\", \"allcaps\", \"elongated\", \"repeated\",'emphasis', 'censored'},\n",
    "    annotate={\"hashtag\"},\n",
    "    fix_html=True,  # fix HTML tokens\n",
    "    \n",
    "    # corpus from which the word statistics are going to be used \n",
    "    # for word segmentation \n",
    "    segmenter=\"twitter\", \n",
    "    \n",
    "    # corpus from which the word statistics are going to be used \n",
    "    # for spell correction\n",
    "    corrector=\"twitter\", \n",
    "    \n",
    "    unpack_hashtags=True,  # perform word segmentation on hashtags\n",
    "    unpack_contractions=True,  # Unpack contractions (can't -> can not)\n",
    "    spell_correct_elong=False,  # spell correction for elongated words\n",
    "    \n",
    "    # select a tokenizer. You can use SocialTokenizer, or pass your own\n",
    "    # the tokenizer, should take as input a string and return a list of tokens\n",
    "    tokenizer=SocialTokenizer(lowercase=True).tokenize,\n",
    "\n",
    "    # list of dictionaries, for replacing tokens extracted from the text,\n",
    "    # with other expressions. You can pass more than one dictionaries.\n",
    "    dicts=[emoticons]\n",
    ")"
   ]
  },
  {
   "cell_type": "code",
   "execution_count": 19,
   "id": "e2f2f868-9a2f-49f9-a5b2-8f5246a3cf33",
   "metadata": {},
   "outputs": [],
   "source": [
    "# panggil ekphrasis\n",
    "\n",
    "def bersih_data(text):\n",
    "    return \" \".join(text_processor.pre_process_doc(text))"
   ]
  },
  {
   "cell_type": "code",
   "execution_count": 20,
   "id": "59eb320d-381a-429b-96e9-736325888695",
   "metadata": {},
   "outputs": [],
   "source": [
    "# fungsi dari AMS 01-03. silakan cek bagaimana saya merubah menjadi fungsi\n",
    "\n",
    "def non_ascii(text):\n",
    "    return text.encode('ascii', 'replace').decode('ascii')\n",
    "\n",
    "def remove_space_alzami(text):\n",
    "    return \" \".join(text.split())\n",
    "\n",
    "def remove_emoji_alzami(text):\n",
    "    return ' '.join(re.sub(\"([x#][A-Za-z0-9]+)\",\" \", text).split())\n",
    "\n",
    "def remove_tab(text):\n",
    "    return text.replace('\\\\t',\" \").replace('\\\\n',\" \").replace('\\\\u',\" \").replace('\\\\',\"\")\n",
    "\n",
    "def remove_tab2(text):\n",
    "    return re.sub('\\s+',' ',text)\n",
    "\n",
    "def remove_rt(text):\n",
    "    return text.replace('rt',\" \")\n",
    "\n",
    "def remove_mention(text):\n",
    "    return ' '.join(re.sub(\"([@#][A-Za-z0-9]+)|(\\w+:\\/\\/\\S+)\",\" \", text).split())\n",
    "\n",
    "def remove_incomplete_url(text):\n",
    "    return text.replace(\"http://\", \" \").replace(\"https://\", \" \")\n",
    "\n",
    "def remove_single_char(text):\n",
    "    return re.sub(r\"\\b[a-zA-Z]\\b\", \"\", text)\n",
    "\n",
    "def remove_excessive_dot(text):\n",
    "    return text.replace('..',\" \")\n",
    "\n",
    "def change_stripe(text):\n",
    "    return text.replace('-',\" \")\n",
    "\n",
    "def lower(text):\n",
    "    return text.lower()\n",
    "\n",
    "def remove_single_char(text):\n",
    "    return re.sub(r\"\\b[a-zA-Z]\\b\", \"\", text)\n",
    "\n",
    "def remove_excessive_dot(text):\n",
    "    return text.replace('..',\" \")\n",
    "\n",
    "def lower(text):\n",
    "    return text.lower()\n",
    "\n",
    "def remove_whitespace_LT(text):\n",
    "    return text.strip()\n",
    "\n",
    "def remove_whitespace_multiple(text):\n",
    "    return re.sub('\\s+',' ',text)\n",
    "\n",
    "def remove_punctuation(text):\n",
    "    remove = string.punctuation\n",
    "    remove = remove.replace(\"_\", \"\") # don't remove hyphens\n",
    "    pattern = r\"[{}]\".format(remove) # create the pattern\n",
    "    return re.sub(pattern, \"\", text) "
   ]
  },
  {
   "cell_type": "code",
   "execution_count": 21,
   "id": "65b4b7d0-0ebe-4893-aa62-398565a13d0f",
   "metadata": {},
   "outputs": [],
   "source": [
    "# hapus untuk <>\n",
    "def remove_number_eks(text):\n",
    "    return text.replace('<number>',\" \")\n",
    "\n",
    "def remove_angka(text):\n",
    "    return re.sub(r\"\\d+\", \"\", text) \n",
    "\n",
    "def remove_URL_eks(text):\n",
    "    return text.replace('URL',\" \").replace('url',\" \")\n",
    "\n",
    "def space_punctuation(text):\n",
    "    return re.sub('(?<! )(?=[.,!?()])|(?<=[.,!?()])(?! )', r' ', text)"
   ]
  },
  {
   "cell_type": "markdown",
   "id": "d278a633-2264-4707-a3a3-4bdbd2d2f9e0",
   "metadata": {},
   "source": [
    "- lakukan pembersihan dengan memanggil fungsi yang didefinisikan diatas"
   ]
  },
  {
   "cell_type": "code",
   "execution_count": 22,
   "id": "f2ca82b6-ca26-4db4-a81a-4413095c581f",
   "metadata": {},
   "outputs": [],
   "source": [
    "i = 0\n",
    "final_string = []\n",
    "s = \"\"\n",
    "for text in df['content'].values:\n",
    "    filteredSentence = []\n",
    "    EachReviewText = \"\"\n",
    "    proc = lower(text)\n",
    "    proc = change_stripe(text)\n",
    "    proc = remove_emoji_alzami(proc)\n",
    "    proc = remove_tab(proc)\n",
    "    proc = remove_tab2(proc)\n",
    "    proc = non_ascii(proc)\n",
    "    proc = remove_incomplete_url(proc)\n",
    "    proc = remove_excessive_dot(proc)\n",
    "    proc = remove_whitespace_LT(proc)\n",
    "    proc = remove_whitespace_multiple(proc)\n",
    "    proc = remove_single_char(proc)\n",
    "    proc = space_punctuation(proc)\n",
    "    proc = remove_punctuation(proc)\n",
    "    proc = remove_space_alzami(proc)\n",
    "    proc = bersih_data(proc)\n",
    "    #proc = remove_rt(proc)\n",
    "    proc = remove_number_eks(proc)\n",
    "    proc = remove_angka(proc) \n",
    "    proc = remove_URL_eks(proc)\n",
    "    EachReviewText = proc\n",
    "    final_string.append(EachReviewText)"
   ]
  },
  {
   "cell_type": "code",
   "execution_count": 23,
   "id": "1b7ce7d1-9432-4317-b5e5-6f65064546c8",
   "metadata": {},
   "outputs": [],
   "source": [
    "df[\"step01\"] = final_string"
   ]
  },
  {
   "cell_type": "code",
   "execution_count": 24,
   "id": "12ed0258-13b5-402f-958d-1a8f70254402",
   "metadata": {},
   "outputs": [
    {
     "data": {
      "text/html": [
       "<div>\n",
       "<style scoped>\n",
       "    .dataframe tbody tr th:only-of-type {\n",
       "        vertical-align: middle;\n",
       "    }\n",
       "\n",
       "    .dataframe tbody tr th {\n",
       "        vertical-align: top;\n",
       "    }\n",
       "\n",
       "    .dataframe thead th {\n",
       "        text-align: right;\n",
       "    }\n",
       "</style>\n",
       "<table border=\"1\" class=\"dataframe\">\n",
       "  <thead>\n",
       "    <tr style=\"text-align: right;\">\n",
       "      <th></th>\n",
       "      <th>userName</th>\n",
       "      <th>content</th>\n",
       "      <th>step01</th>\n",
       "    </tr>\n",
       "  </thead>\n",
       "  <tbody>\n",
       "    <tr>\n",
       "      <th>0</th>\n",
       "      <td>Anggun Virly channel</td>\n",
       "      <td>Kode billing tidak ada</td>\n",
       "      <td>kode billing tidak ada</td>\n",
       "    </tr>\n",
       "    <tr>\n",
       "      <th>1</th>\n",
       "      <td>Juni Arjuna</td>\n",
       "      <td>App nya saya mohon di perbaiki,saya udh log-in...</td>\n",
       "      <td>app nya saya mohon di perbaiki saya udh log in...</td>\n",
       "    </tr>\n",
       "    <tr>\n",
       "      <th>2</th>\n",
       "      <td>Khamdan Ambari</td>\n",
       "      <td>Maksudnya apa ini qplikasi, kirain bisa memban...</td>\n",
       "      <td>maksudnya apa ini qplikasi kirain bisa membant...</td>\n",
       "    </tr>\n",
       "    <tr>\n",
       "      <th>3</th>\n",
       "      <td>Antika Yosa Fitri</td>\n",
       "      <td>Bikin aplikasi, bukan memudahkan tetapi bikin ...</td>\n",
       "      <td>bikin aplikasi bukan memudahkan tetapi bikin t...</td>\n",
       "    </tr>\n",
       "    <tr>\n",
       "      <th>4</th>\n",
       "      <td>PENDAKI PAM chanel</td>\n",
       "      <td>aplikasi makan sagu Rakyat miskin</td>\n",
       "      <td>aplikasi makan sagu rakyat miskin</td>\n",
       "    </tr>\n",
       "    <tr>\n",
       "      <th>5</th>\n",
       "      <td>Nora Wiqayati</td>\n",
       "      <td>Paspor nggak bisa dinyatakan rusak apa tidak, ...</td>\n",
       "      <td>paspor nggak bisa dinyatakan rusak apa tidak p...</td>\n",
       "    </tr>\n",
       "    <tr>\n",
       "      <th>6</th>\n",
       "      <td>Rendy Sihaloho</td>\n",
       "      <td>Ini gimana si di pilih tanggal gak mau gabisa ...</td>\n",
       "      <td>ini gimana si di pilih tanggal gak mau gabisa ...</td>\n",
       "    </tr>\n",
       "    <tr>\n",
       "      <th>7</th>\n",
       "      <td>tommy fondy</td>\n",
       "      <td>Good</td>\n",
       "      <td>good</td>\n",
       "    </tr>\n",
       "    <tr>\n",
       "      <th>8</th>\n",
       "      <td>abaz Gorden</td>\n",
       "      <td>Aplikasi milik negara kok gini amat ya, susah ...</td>\n",
       "      <td>aplikasi milik negara kok gini amat ya susah b...</td>\n",
       "    </tr>\n",
       "    <tr>\n",
       "      <th>9</th>\n",
       "      <td>EDY MUSTOFA</td>\n",
       "      <td>Aplikasinya Tidak bisa dibuka</td>\n",
       "      <td>aplikasinya tidak bisa dibuka</td>\n",
       "    </tr>\n",
       "  </tbody>\n",
       "</table>\n",
       "</div>"
      ],
      "text/plain": [
       "               userName                                            content  \\\n",
       "0  Anggun Virly channel                             Kode billing tidak ada   \n",
       "1           Juni Arjuna  App nya saya mohon di perbaiki,saya udh log-in...   \n",
       "2        Khamdan Ambari  Maksudnya apa ini qplikasi, kirain bisa memban...   \n",
       "3     Antika Yosa Fitri  Bikin aplikasi, bukan memudahkan tetapi bikin ...   \n",
       "4    PENDAKI PAM chanel                  aplikasi makan sagu Rakyat miskin   \n",
       "5         Nora Wiqayati  Paspor nggak bisa dinyatakan rusak apa tidak, ...   \n",
       "6        Rendy Sihaloho  Ini gimana si di pilih tanggal gak mau gabisa ...   \n",
       "7           tommy fondy                                               Good   \n",
       "8           abaz Gorden  Aplikasi milik negara kok gini amat ya, susah ...   \n",
       "9           EDY MUSTOFA                      Aplikasinya Tidak bisa dibuka   \n",
       "\n",
       "                                              step01  \n",
       "0                             kode billing tidak ada  \n",
       "1  app nya saya mohon di perbaiki saya udh log in...  \n",
       "2  maksudnya apa ini qplikasi kirain bisa membant...  \n",
       "3  bikin aplikasi bukan memudahkan tetapi bikin t...  \n",
       "4                  aplikasi makan sagu rakyat miskin  \n",
       "5  paspor nggak bisa dinyatakan rusak apa tidak p...  \n",
       "6  ini gimana si di pilih tanggal gak mau gabisa ...  \n",
       "7                                               good  \n",
       "8  aplikasi milik negara kok gini amat ya susah b...  \n",
       "9                      aplikasinya tidak bisa dibuka  "
      ]
     },
     "execution_count": 24,
     "metadata": {},
     "output_type": "execute_result"
    }
   ],
   "source": [
    "df.head(10)"
   ]
  },
  {
   "cell_type": "markdown",
   "id": "162fdbd1-1c45-4b22-ac8f-fd298fc7cb4d",
   "metadata": {},
   "source": [
    "- hapus data kosong"
   ]
  },
  {
   "cell_type": "code",
   "execution_count": 25,
   "id": "65f2b4ae-6973-42f9-883a-e4f03e4bffce",
   "metadata": {},
   "outputs": [
    {
     "name": "stdout",
     "output_type": "stream",
     "text": [
      "<class 'pandas.core.frame.DataFrame'>\n",
      "RangeIndex: 12499 entries, 0 to 12498\n",
      "Data columns (total 3 columns):\n",
      " #   Column    Non-Null Count  Dtype \n",
      "---  ------    --------------  ----- \n",
      " 0   userName  12499 non-null  object\n",
      " 1   content   12499 non-null  object\n",
      " 2   step01    12499 non-null  object\n",
      "dtypes: object(3)\n",
      "memory usage: 293.1+ KB\n"
     ]
    }
   ],
   "source": [
    "df.info()"
   ]
  },
  {
   "cell_type": "code",
   "execution_count": 26,
   "id": "183d7b57-f02d-4431-8c0f-8974f111e062",
   "metadata": {},
   "outputs": [
    {
     "name": "stdout",
     "output_type": "stream",
     "text": [
      "<class 'pandas.core.frame.DataFrame'>\n",
      "Index: 808 entries, 7 to 12494\n",
      "Data columns (total 3 columns):\n",
      " #   Column    Non-Null Count  Dtype \n",
      "---  ------    --------------  ----- \n",
      " 0   userName  808 non-null    object\n",
      " 1   content   808 non-null    object\n",
      " 2   step01    808 non-null    object\n",
      "dtypes: object(3)\n",
      "memory usage: 25.2+ KB\n"
     ]
    }
   ],
   "source": [
    "df_hapus = df[~df['step01'].str.contains(\" \")]\n",
    "df_hapus.info()"
   ]
  },
  {
   "cell_type": "code",
   "execution_count": 27,
   "id": "dbe6fdc3-7f31-4529-8f5e-99e8dad6102e",
   "metadata": {},
   "outputs": [
    {
     "data": {
      "text/html": [
       "<div>\n",
       "<style scoped>\n",
       "    .dataframe tbody tr th:only-of-type {\n",
       "        vertical-align: middle;\n",
       "    }\n",
       "\n",
       "    .dataframe tbody tr th {\n",
       "        vertical-align: top;\n",
       "    }\n",
       "\n",
       "    .dataframe thead th {\n",
       "        text-align: right;\n",
       "    }\n",
       "</style>\n",
       "<table border=\"1\" class=\"dataframe\">\n",
       "  <thead>\n",
       "    <tr style=\"text-align: right;\">\n",
       "      <th></th>\n",
       "      <th>userName</th>\n",
       "      <th>content</th>\n",
       "      <th>step01</th>\n",
       "    </tr>\n",
       "  </thead>\n",
       "  <tbody>\n",
       "    <tr>\n",
       "      <th>7</th>\n",
       "      <td>tommy fondy</td>\n",
       "      <td>Good</td>\n",
       "      <td>good</td>\n",
       "    </tr>\n",
       "    <tr>\n",
       "      <th>21</th>\n",
       "      <td>Ichsan Maulana</td>\n",
       "      <td>Mantanance?</td>\n",
       "      <td>mantanance</td>\n",
       "    </tr>\n",
       "    <tr>\n",
       "      <th>66</th>\n",
       "      <td>Sugiarto Rudi</td>\n",
       "      <td>Tooop</td>\n",
       "      <td>tooop</td>\n",
       "    </tr>\n",
       "    <tr>\n",
       "      <th>100</th>\n",
       "      <td>warkima03 warkima03</td>\n",
       "      <td>ok</td>\n",
       "      <td>ok</td>\n",
       "    </tr>\n",
       "    <tr>\n",
       "      <th>109</th>\n",
       "      <td>elvan dika</td>\n",
       "      <td>mantap</td>\n",
       "      <td>mantap</td>\n",
       "    </tr>\n",
       "    <tr>\n",
       "      <th>111</th>\n",
       "      <td>Edi Rudi</td>\n",
       "      <td>Good</td>\n",
       "      <td>good</td>\n",
       "    </tr>\n",
       "    <tr>\n",
       "      <th>116</th>\n",
       "      <td>Siti Hajar</td>\n",
       "      <td>Good</td>\n",
       "      <td>good</td>\n",
       "    </tr>\n",
       "    <tr>\n",
       "      <th>147</th>\n",
       "      <td>astika yunita</td>\n",
       "      <td>Aneh</td>\n",
       "      <td>aneh</td>\n",
       "    </tr>\n",
       "    <tr>\n",
       "      <th>149</th>\n",
       "      <td>uphie noer</td>\n",
       "      <td>Good</td>\n",
       "      <td>good</td>\n",
       "    </tr>\n",
       "    <tr>\n",
       "      <th>174</th>\n",
       "      <td>Number two</td>\n",
       "      <td>Buruk</td>\n",
       "      <td>buruk</td>\n",
       "    </tr>\n",
       "  </tbody>\n",
       "</table>\n",
       "</div>"
      ],
      "text/plain": [
       "                userName      content      step01\n",
       "7            tommy fondy         Good        good\n",
       "21        Ichsan Maulana  Mantanance?  mantanance\n",
       "66         Sugiarto Rudi        Tooop       tooop\n",
       "100  warkima03 warkima03           ok          ok\n",
       "109           elvan dika       mantap      mantap\n",
       "111             Edi Rudi         Good        good\n",
       "116           Siti Hajar         Good        good\n",
       "147        astika yunita         Aneh        aneh\n",
       "149           uphie noer         Good        good\n",
       "174           Number two        Buruk       buruk"
      ]
     },
     "execution_count": 27,
     "metadata": {},
     "output_type": "execute_result"
    }
   ],
   "source": [
    "df_hapus.head(10)"
   ]
  },
  {
   "cell_type": "code",
   "execution_count": 28,
   "id": "bb94fa85-3824-44df-8293-d0faa5f4be75",
   "metadata": {},
   "outputs": [
    {
     "name": "stdout",
     "output_type": "stream",
     "text": [
      "<class 'pandas.core.frame.DataFrame'>\n",
      "Index: 11691 entries, 0 to 12498\n",
      "Data columns (total 3 columns):\n",
      " #   Column    Non-Null Count  Dtype \n",
      "---  ------    --------------  ----- \n",
      " 0   userName  11691 non-null  object\n",
      " 1   content   11691 non-null  object\n",
      " 2   step01    11691 non-null  object\n",
      "dtypes: object(3)\n",
      "memory usage: 365.3+ KB\n"
     ]
    }
   ],
   "source": [
    "df_new = df[~df.isin(df_hapus)].dropna()\n",
    "df_new.info()"
   ]
  },
  {
   "cell_type": "code",
   "execution_count": 29,
   "id": "9deec4f5-ea7d-4f15-946c-1ce4930ba38f",
   "metadata": {},
   "outputs": [
    {
     "data": {
      "text/html": [
       "<div>\n",
       "<style scoped>\n",
       "    .dataframe tbody tr th:only-of-type {\n",
       "        vertical-align: middle;\n",
       "    }\n",
       "\n",
       "    .dataframe tbody tr th {\n",
       "        vertical-align: top;\n",
       "    }\n",
       "\n",
       "    .dataframe thead th {\n",
       "        text-align: right;\n",
       "    }\n",
       "</style>\n",
       "<table border=\"1\" class=\"dataframe\">\n",
       "  <thead>\n",
       "    <tr style=\"text-align: right;\">\n",
       "      <th></th>\n",
       "      <th>userName</th>\n",
       "      <th>content</th>\n",
       "      <th>step01</th>\n",
       "    </tr>\n",
       "  </thead>\n",
       "  <tbody>\n",
       "    <tr>\n",
       "      <th>0</th>\n",
       "      <td>Anggun Virly channel</td>\n",
       "      <td>Kode billing tidak ada</td>\n",
       "      <td>kode billing tidak ada</td>\n",
       "    </tr>\n",
       "    <tr>\n",
       "      <th>1</th>\n",
       "      <td>Juni Arjuna</td>\n",
       "      <td>App nya saya mohon di perbaiki,saya udh log-in...</td>\n",
       "      <td>app nya saya mohon di perbaiki saya udh log in...</td>\n",
       "    </tr>\n",
       "    <tr>\n",
       "      <th>2</th>\n",
       "      <td>Khamdan Ambari</td>\n",
       "      <td>Maksudnya apa ini qplikasi, kirain bisa memban...</td>\n",
       "      <td>maksudnya apa ini qplikasi kirain bisa membant...</td>\n",
       "    </tr>\n",
       "    <tr>\n",
       "      <th>3</th>\n",
       "      <td>Antika Yosa Fitri</td>\n",
       "      <td>Bikin aplikasi, bukan memudahkan tetapi bikin ...</td>\n",
       "      <td>bikin aplikasi bukan memudahkan tetapi bikin t...</td>\n",
       "    </tr>\n",
       "    <tr>\n",
       "      <th>4</th>\n",
       "      <td>PENDAKI PAM chanel</td>\n",
       "      <td>aplikasi makan sagu Rakyat miskin</td>\n",
       "      <td>aplikasi makan sagu rakyat miskin</td>\n",
       "    </tr>\n",
       "    <tr>\n",
       "      <th>...</th>\n",
       "      <td>...</td>\n",
       "      <td>...</td>\n",
       "      <td>...</td>\n",
       "    </tr>\n",
       "    <tr>\n",
       "      <th>12493</th>\n",
       "      <td>Muhamad Dikri</td>\n",
       "      <td>Keren Banget.. gampang banget prosesnya.. good...</td>\n",
       "      <td>keren banget gampang banget prosesnya good job</td>\n",
       "    </tr>\n",
       "    <tr>\n",
       "      <th>12495</th>\n",
       "      <td>Ifan Sastra Hirata</td>\n",
       "      <td>Tidak ditemukan Kanim di lokasi anda</td>\n",
       "      <td>tidak ditemukan kanim di lokasi anda</td>\n",
       "    </tr>\n",
       "    <tr>\n",
       "      <th>12496</th>\n",
       "      <td>Handriyanti</td>\n",
       "      <td>Lemot bgt pas milih lokasi pengambilan paspor ...</td>\n",
       "      <td>lemot bgt pas milih lokasi pengambilan paspor ...</td>\n",
       "    </tr>\n",
       "    <tr>\n",
       "      <th>12497</th>\n",
       "      <td>Ibnu Prayudha Pangestu</td>\n",
       "      <td>Aplikasi ini sangat membantu bagi saya yang me...</td>\n",
       "      <td>aplikasi ini sangat membantu bagi saya yang me...</td>\n",
       "    </tr>\n",
       "    <tr>\n",
       "      <th>12498</th>\n",
       "      <td>H A K I M</td>\n",
       "      <td>Masih trial ya... Di banyuwangi sudah ada kant...</td>\n",
       "      <td>masih trial ya di banyuwangi sudah ada kantor ...</td>\n",
       "    </tr>\n",
       "  </tbody>\n",
       "</table>\n",
       "<p>11691 rows × 3 columns</p>\n",
       "</div>"
      ],
      "text/plain": [
       "                     userName  \\\n",
       "0        Anggun Virly channel   \n",
       "1                 Juni Arjuna   \n",
       "2              Khamdan Ambari   \n",
       "3           Antika Yosa Fitri   \n",
       "4          PENDAKI PAM chanel   \n",
       "...                       ...   \n",
       "12493           Muhamad Dikri   \n",
       "12495      Ifan Sastra Hirata   \n",
       "12496             Handriyanti   \n",
       "12497  Ibnu Prayudha Pangestu   \n",
       "12498               H A K I M   \n",
       "\n",
       "                                                 content  \\\n",
       "0                                 Kode billing tidak ada   \n",
       "1      App nya saya mohon di perbaiki,saya udh log-in...   \n",
       "2      Maksudnya apa ini qplikasi, kirain bisa memban...   \n",
       "3      Bikin aplikasi, bukan memudahkan tetapi bikin ...   \n",
       "4                      aplikasi makan sagu Rakyat miskin   \n",
       "...                                                  ...   \n",
       "12493  Keren Banget.. gampang banget prosesnya.. good...   \n",
       "12495               Tidak ditemukan Kanim di lokasi anda   \n",
       "12496  Lemot bgt pas milih lokasi pengambilan paspor ...   \n",
       "12497  Aplikasi ini sangat membantu bagi saya yang me...   \n",
       "12498  Masih trial ya... Di banyuwangi sudah ada kant...   \n",
       "\n",
       "                                                  step01  \n",
       "0                                 kode billing tidak ada  \n",
       "1      app nya saya mohon di perbaiki saya udh log in...  \n",
       "2      maksudnya apa ini qplikasi kirain bisa membant...  \n",
       "3      bikin aplikasi bukan memudahkan tetapi bikin t...  \n",
       "4                      aplikasi makan sagu rakyat miskin  \n",
       "...                                                  ...  \n",
       "12493     keren banget gampang banget prosesnya good job  \n",
       "12495               tidak ditemukan kanim di lokasi anda  \n",
       "12496  lemot bgt pas milih lokasi pengambilan paspor ...  \n",
       "12497  aplikasi ini sangat membantu bagi saya yang me...  \n",
       "12498  masih trial ya di banyuwangi sudah ada kantor ...  \n",
       "\n",
       "[11691 rows x 3 columns]"
      ]
     },
     "execution_count": 29,
     "metadata": {},
     "output_type": "execute_result"
    }
   ],
   "source": [
    "df_new"
   ]
  },
  {
   "cell_type": "markdown",
   "id": "f315cd4c-b129-4b29-9f5b-e44c94104978",
   "metadata": {},
   "source": [
    "- normalisasi kata slang menjadi kata baku"
   ]
  },
  {
   "cell_type": "code",
   "execution_count": 31,
   "id": "e087235b-bc40-480b-87f5-0a6e3f1dc965",
   "metadata": {},
   "outputs": [],
   "source": [
    "# token\n",
    "import nltk\n",
    "from nltk.tokenize import word_tokenize "
   ]
  },
  {
   "cell_type": "code",
   "execution_count": 32,
   "id": "9b99d14f-6471-4ef6-a78f-33f086baefa5",
   "metadata": {},
   "outputs": [],
   "source": [
    "def word_tokenize_wrapper(text):\n",
    "  return word_tokenize(text)"
   ]
  },
  {
   "cell_type": "code",
   "execution_count": 33,
   "id": "7cb2e779-5ab5-435c-81d2-4cdb69bdc898",
   "metadata": {},
   "outputs": [],
   "source": [
    "df_new['tokens'] = df['step01'].apply(word_tokenize_wrapper)"
   ]
  },
  {
   "cell_type": "code",
   "execution_count": 34,
   "id": "e59c91ae-c71a-4df4-9545-3e8dc48f4ea2",
   "metadata": {},
   "outputs": [
    {
     "data": {
      "text/html": [
       "<div>\n",
       "<style scoped>\n",
       "    .dataframe tbody tr th:only-of-type {\n",
       "        vertical-align: middle;\n",
       "    }\n",
       "\n",
       "    .dataframe tbody tr th {\n",
       "        vertical-align: top;\n",
       "    }\n",
       "\n",
       "    .dataframe thead th {\n",
       "        text-align: right;\n",
       "    }\n",
       "</style>\n",
       "<table border=\"1\" class=\"dataframe\">\n",
       "  <thead>\n",
       "    <tr style=\"text-align: right;\">\n",
       "      <th></th>\n",
       "      <th>userName</th>\n",
       "      <th>content</th>\n",
       "      <th>step01</th>\n",
       "      <th>tokens</th>\n",
       "    </tr>\n",
       "  </thead>\n",
       "  <tbody>\n",
       "    <tr>\n",
       "      <th>0</th>\n",
       "      <td>Anggun Virly channel</td>\n",
       "      <td>Kode billing tidak ada</td>\n",
       "      <td>kode billing tidak ada</td>\n",
       "      <td>[kode, billing, tidak, ada]</td>\n",
       "    </tr>\n",
       "    <tr>\n",
       "      <th>1</th>\n",
       "      <td>Juni Arjuna</td>\n",
       "      <td>App nya saya mohon di perbaiki,saya udh log-in...</td>\n",
       "      <td>app nya saya mohon di perbaiki saya udh log in...</td>\n",
       "      <td>[app, nya, saya, mohon, di, perbaiki, saya, ud...</td>\n",
       "    </tr>\n",
       "    <tr>\n",
       "      <th>2</th>\n",
       "      <td>Khamdan Ambari</td>\n",
       "      <td>Maksudnya apa ini qplikasi, kirain bisa memban...</td>\n",
       "      <td>maksudnya apa ini qplikasi kirain bisa membant...</td>\n",
       "      <td>[maksudnya, apa, ini, qplikasi, kirain, bisa, ...</td>\n",
       "    </tr>\n",
       "    <tr>\n",
       "      <th>3</th>\n",
       "      <td>Antika Yosa Fitri</td>\n",
       "      <td>Bikin aplikasi, bukan memudahkan tetapi bikin ...</td>\n",
       "      <td>bikin aplikasi bukan memudahkan tetapi bikin t...</td>\n",
       "      <td>[bikin, aplikasi, bukan, memudahkan, tetapi, b...</td>\n",
       "    </tr>\n",
       "    <tr>\n",
       "      <th>4</th>\n",
       "      <td>PENDAKI PAM chanel</td>\n",
       "      <td>aplikasi makan sagu Rakyat miskin</td>\n",
       "      <td>aplikasi makan sagu rakyat miskin</td>\n",
       "      <td>[aplikasi, makan, sagu, rakyat, miskin]</td>\n",
       "    </tr>\n",
       "    <tr>\n",
       "      <th>5</th>\n",
       "      <td>Nora Wiqayati</td>\n",
       "      <td>Paspor nggak bisa dinyatakan rusak apa tidak, ...</td>\n",
       "      <td>paspor nggak bisa dinyatakan rusak apa tidak p...</td>\n",
       "      <td>[paspor, nggak, bisa, dinyatakan, rusak, apa, ...</td>\n",
       "    </tr>\n",
       "    <tr>\n",
       "      <th>6</th>\n",
       "      <td>Rendy Sihaloho</td>\n",
       "      <td>Ini gimana si di pilih tanggal gak mau gabisa ...</td>\n",
       "      <td>ini gimana si di pilih tanggal gak mau gabisa ...</td>\n",
       "      <td>[ini, gimana, si, di, pilih, tanggal, gak, mau...</td>\n",
       "    </tr>\n",
       "    <tr>\n",
       "      <th>8</th>\n",
       "      <td>abaz Gorden</td>\n",
       "      <td>Aplikasi milik negara kok gini amat ya, susah ...</td>\n",
       "      <td>aplikasi milik negara kok gini amat ya susah b...</td>\n",
       "      <td>[aplikasi, milik, negara, kok, gini, amat, ya,...</td>\n",
       "    </tr>\n",
       "    <tr>\n",
       "      <th>9</th>\n",
       "      <td>EDY MUSTOFA</td>\n",
       "      <td>Aplikasinya Tidak bisa dibuka</td>\n",
       "      <td>aplikasinya tidak bisa dibuka</td>\n",
       "      <td>[aplikasinya, tidak, bisa, dibuka]</td>\n",
       "    </tr>\n",
       "    <tr>\n",
       "      <th>10</th>\n",
       "      <td>Dian prahmana putra</td>\n",
       "      <td>Aneh banget ya masa kuota penuh terus,jadi mau...</td>\n",
       "      <td>aneh banget ya masa kuota penuh terus jadi mau...</td>\n",
       "      <td>[aneh, banget, ya, masa, kuota, penuh, terus, ...</td>\n",
       "    </tr>\n",
       "  </tbody>\n",
       "</table>\n",
       "</div>"
      ],
      "text/plain": [
       "                userName                                            content  \\\n",
       "0   Anggun Virly channel                             Kode billing tidak ada   \n",
       "1            Juni Arjuna  App nya saya mohon di perbaiki,saya udh log-in...   \n",
       "2         Khamdan Ambari  Maksudnya apa ini qplikasi, kirain bisa memban...   \n",
       "3      Antika Yosa Fitri  Bikin aplikasi, bukan memudahkan tetapi bikin ...   \n",
       "4     PENDAKI PAM chanel                  aplikasi makan sagu Rakyat miskin   \n",
       "5          Nora Wiqayati  Paspor nggak bisa dinyatakan rusak apa tidak, ...   \n",
       "6         Rendy Sihaloho  Ini gimana si di pilih tanggal gak mau gabisa ...   \n",
       "8            abaz Gorden  Aplikasi milik negara kok gini amat ya, susah ...   \n",
       "9            EDY MUSTOFA                      Aplikasinya Tidak bisa dibuka   \n",
       "10   Dian prahmana putra  Aneh banget ya masa kuota penuh terus,jadi mau...   \n",
       "\n",
       "                                               step01  \\\n",
       "0                              kode billing tidak ada   \n",
       "1   app nya saya mohon di perbaiki saya udh log in...   \n",
       "2   maksudnya apa ini qplikasi kirain bisa membant...   \n",
       "3   bikin aplikasi bukan memudahkan tetapi bikin t...   \n",
       "4                   aplikasi makan sagu rakyat miskin   \n",
       "5   paspor nggak bisa dinyatakan rusak apa tidak p...   \n",
       "6   ini gimana si di pilih tanggal gak mau gabisa ...   \n",
       "8   aplikasi milik negara kok gini amat ya susah b...   \n",
       "9                       aplikasinya tidak bisa dibuka   \n",
       "10  aneh banget ya masa kuota penuh terus jadi mau...   \n",
       "\n",
       "                                               tokens  \n",
       "0                         [kode, billing, tidak, ada]  \n",
       "1   [app, nya, saya, mohon, di, perbaiki, saya, ud...  \n",
       "2   [maksudnya, apa, ini, qplikasi, kirain, bisa, ...  \n",
       "3   [bikin, aplikasi, bukan, memudahkan, tetapi, b...  \n",
       "4             [aplikasi, makan, sagu, rakyat, miskin]  \n",
       "5   [paspor, nggak, bisa, dinyatakan, rusak, apa, ...  \n",
       "6   [ini, gimana, si, di, pilih, tanggal, gak, mau...  \n",
       "8   [aplikasi, milik, negara, kok, gini, amat, ya,...  \n",
       "9                  [aplikasinya, tidak, bisa, dibuka]  \n",
       "10  [aneh, banget, ya, masa, kuota, penuh, terus, ...  "
      ]
     },
     "execution_count": 34,
     "metadata": {},
     "output_type": "execute_result"
    }
   ],
   "source": [
    "df_new.head(10)"
   ]
  },
  {
   "cell_type": "markdown",
   "id": "12f5f077-c3a9-4368-872d-cadf4977e7af",
   "metadata": {},
   "source": [
    "## simpan"
   ]
  },
  {
   "cell_type": "code",
   "execution_count": 35,
   "id": "574abf76-8307-4836-8053-bfd0cf62d993",
   "metadata": {},
   "outputs": [],
   "source": [
    "df.to_csv('clean_dataset2.csv',sep=\";\")"
   ]
  },
  {
   "cell_type": "code",
   "execution_count": null,
   "id": "32fc2594-3129-4b15-b400-ed3d9a9734d4",
   "metadata": {},
   "outputs": [],
   "source": []
  }
 ],
 "metadata": {
  "kernelspec": {
   "display_name": "Python 3 (ipykernel)",
   "language": "python",
   "name": "python3"
  },
  "language_info": {
   "codemirror_mode": {
    "name": "ipython",
    "version": 3
   },
   "file_extension": ".py",
   "mimetype": "text/x-python",
   "name": "python",
   "nbconvert_exporter": "python",
   "pygments_lexer": "ipython3",
   "version": "3.11.9"
  }
 },
 "nbformat": 4,
 "nbformat_minor": 5
}
