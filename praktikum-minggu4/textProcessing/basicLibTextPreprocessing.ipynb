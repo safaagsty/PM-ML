{
 "cells": [
  {
   "cell_type": "markdown",
   "id": "30ed7ef9-965e-4f03-88fb-94829656bee6",
   "metadata": {},
   "source": [
    "Dasar Text-Preprocessing dengan Python\n",
    "- Case Folding: Lowercase (Merubah format teks menjadi format huruf kecil semua)"
   ]
  },
  {
   "cell_type": "code",
   "execution_count": 2,
   "id": "af34e5fd-7186-4923-b240-1438db61f0bb",
   "metadata": {},
   "outputs": [
    {
     "name": "stdout",
     "output_type": "stream",
     "text": [
      "kebutuhan akan pendidikan yang berkualitas menjadi salah satu fokus utama dalam pembangunan masa depan.\n"
     ]
    }
   ],
   "source": [
    "kalimat = \"Kebutuhan Akan Pendidikan yang Berkualitas Menjadi salah satu fokus utama dalam pembangunan masa depan.\"\n",
    "lower_case = kalimat.lower()\n",
    "print(lower_case)"
   ]
  },
  {
   "cell_type": "markdown",
   "id": "6a1ddece-5092-4fed-a203-2f3efd7f66ca",
   "metadata": {},
   "source": [
    "- Case Folding: Removing Number (Menghapus karakter angka)"
   ]
  },
  {
   "cell_type": "code",
   "execution_count": 2,
   "id": "eb10a44b-261d-4f66-b718-de92976631c7",
   "metadata": {},
   "outputs": [
    {
     "data": {
      "text/plain": [
       "'Pada  Maret , Presiden Joko Widodo mengumumkan dua kasus pertama Covid- di Indonesia. Sejak saat itu, kasus Covid- terus bertambah. Gelombang pertama kasus Covid- di Indonesia terjadi pada Januari-Februari . Pada saat itu, kasus Covid- harian tertinggi terjadi pada  Januari  sebanyak ..'"
      ]
     },
     "execution_count": 2,
     "metadata": {},
     "output_type": "execute_result"
    }
   ],
   "source": [
    "import re\n",
    "kalimat = \"Pada 2 Maret 2022, Presiden Joko Widodo mengumumkan dua kasus pertama Covid-19 di Indonesia. Sejak saat itu, kasus Covid-19 terus bertambah. Gelombang pertama kasus Covid-19 di Indonesia terjadi pada Januari-Februari 2020. Pada saat itu, kasus Covid-19 harian tertinggi terjadi pada 30 Januari 2020 sebanyak 14.528.\"\n",
    "hasil = re.sub(r\"\\d+\", \"\", kalimat)\n",
    "hasil"
   ]
  },
  {
   "cell_type": "markdown",
   "id": "ba0062c6-e02d-4ec3-b34b-697765131f10",
   "metadata": {},
   "source": [
    "- Case Folding: Removing Punctuation (Menghapus karakter tanda baca)"
   ]
  },
  {
   "cell_type": "code",
   "execution_count": 4,
   "id": "4b505d19-3629-4a34-a805-bbcd4f2a5d24",
   "metadata": {},
   "outputs": [
    {
     "name": "stdout",
     "output_type": "stream",
     "text": [
      "Tom Jerry sedang bermain ditaman\n"
     ]
    }
   ],
   "source": [
    "import string\n",
    "\n",
    "kalimat = \"Tom& Jerry? {sedang} bermain di[taman]!.\"\n",
    "translator = str.maketrans('', '', string.punctuation)\n",
    "hasil = kalimat.translate(translator)\n",
    "print(hasil)"
   ]
  },
  {
   "cell_type": "markdown",
   "id": "ec28e5f4-3dcf-4543-bb5f-060d5d37d7ee",
   "metadata": {},
   "source": [
    "- Case Folding: Removing whitespace (Menghapus karakter kosong)"
   ]
  },
  {
   "cell_type": "code",
   "execution_count": 5,
   "id": "b6ced384-ccd9-41ab-ac5a-0ca8eb393531",
   "metadata": {},
   "outputs": [
    {
     "data": {
      "text/plain": [
       "'Hari ini hari libur'"
      ]
     },
     "execution_count": 5,
     "metadata": {},
     "output_type": "execute_result"
    }
   ],
   "source": [
    "kalimat = \" \\t    Hari ini hari libur \\t   \\n\"\n",
    "hasil = kalimat.strip()\n",
    "\n",
    "hasil"
   ]
  },
  {
   "cell_type": "markdown",
   "id": "11d17323-b05d-4f12-aa49-efdd7e25057c",
   "metadata": {},
   "source": [
    "- Separating Sentences with Split () Method"
   ]
  },
  {
   "cell_type": "code",
   "execution_count": 9,
   "id": "9e393522-d0f6-49b3-b5f6-301935c2162e",
   "metadata": {},
   "outputs": [
    {
     "data": {
      "text/plain": [
       "['Kebutuhan',\n",
       " 'akan',\n",
       " 'pendidikan',\n",
       " 'yang',\n",
       " 'berkualitas',\n",
       " 'menjadi',\n",
       " 'salah',\n",
       " 'satu',\n",
       " 'fokus',\n",
       " 'utama',\n",
       " 'dalam',\n",
       " 'pembangunan',\n",
       " 'masa',\n",
       " 'depan.']"
      ]
     },
     "execution_count": 9,
     "metadata": {},
     "output_type": "execute_result"
    }
   ],
   "source": [
    "kalimat = \"Kebutuhan akan pendidikan yang berkualitas menjadi salah satu fokus utama dalam pembangunan masa depan.\"\n",
    "pisah = kalimat.split()\n",
    "\n",
    "pisah"
   ]
  },
  {
   "cell_type": "markdown",
   "id": "3c30ee63-3a3b-4813-bb5c-3973db1ee727",
   "metadata": {},
   "source": [
    "- Tokenizing: Word Tokenizing Using NLTK Module"
   ]
  },
  {
   "cell_type": "code",
   "execution_count": 7,
   "id": "77e8d6cf-8d32-4943-aa12-c094bbaa1a6e",
   "metadata": {},
   "outputs": [
    {
     "name": "stdout",
     "output_type": "stream",
     "text": [
      "Requirement already satisfied: nltk in c:\\users\\62895\\appdata\\local\\packages\\pythonsoftwarefoundation.python.3.11_qbz5n2kfra8p0\\localcache\\local-packages\\python311\\site-packages (3.8.1)\n",
      "Requirement already satisfied: click in c:\\users\\62895\\appdata\\local\\packages\\pythonsoftwarefoundation.python.3.11_qbz5n2kfra8p0\\localcache\\local-packages\\python311\\site-packages (from nltk) (8.1.7)\n",
      "Requirement already satisfied: joblib in c:\\users\\62895\\appdata\\local\\packages\\pythonsoftwarefoundation.python.3.11_qbz5n2kfra8p0\\localcache\\local-packages\\python311\\site-packages (from nltk) (1.4.0)\n",
      "Requirement already satisfied: regex>=2021.8.3 in c:\\users\\62895\\appdata\\local\\packages\\pythonsoftwarefoundation.python.3.11_qbz5n2kfra8p0\\localcache\\local-packages\\python311\\site-packages (from nltk) (2023.12.25)\n",
      "Requirement already satisfied: tqdm in c:\\users\\62895\\appdata\\local\\packages\\pythonsoftwarefoundation.python.3.11_qbz5n2kfra8p0\\localcache\\local-packages\\python311\\site-packages (from nltk) (4.66.2)\n",
      "Requirement already satisfied: colorama in c:\\users\\62895\\appdata\\local\\packages\\pythonsoftwarefoundation.python.3.11_qbz5n2kfra8p0\\localcache\\local-packages\\python311\\site-packages (from click->nltk) (0.4.6)\n"
     ]
    }
   ],
   "source": [
    "!pip install nltk"
   ]
  },
  {
   "cell_type": "code",
   "execution_count": 8,
   "id": "1ca0db46-f57e-4ea0-842d-42eec255b780",
   "metadata": {},
   "outputs": [
    {
     "name": "stderr",
     "output_type": "stream",
     "text": [
      "[nltk_data] Downloading package punkt to\n",
      "[nltk_data]     C:\\Users\\62895\\AppData\\Roaming\\nltk_data...\n",
      "[nltk_data]   Unzipping tokenizers\\punkt.zip.\n"
     ]
    },
    {
     "data": {
      "text/plain": [
       "True"
      ]
     },
     "execution_count": 8,
     "metadata": {},
     "output_type": "execute_result"
    }
   ],
   "source": [
    "import nltk\n",
    "nltk.download('punkt')"
   ]
  },
  {
   "cell_type": "code",
   "execution_count": 10,
   "id": "051b90b0-026a-4e7e-80f8-e0c5f74a8de6",
   "metadata": {},
   "outputs": [
    {
     "data": {
      "text/plain": [
       "['Kebutuhan',\n",
       " 'akan',\n",
       " 'pendidikan',\n",
       " 'yang',\n",
       " 'berkualitas',\n",
       " 'menjadi',\n",
       " 'salah',\n",
       " 'satu',\n",
       " 'fokus',\n",
       " 'utama',\n",
       " 'dalam',\n",
       " 'pembangunan',\n",
       " 'masa',\n",
       " 'depan',\n",
       " '.']"
      ]
     },
     "execution_count": 10,
     "metadata": {},
     "output_type": "execute_result"
    }
   ],
   "source": [
    "import nltk\n",
    "from nltk.tokenize import word_tokenize \n",
    "\n",
    "kalimat = \"Kebutuhan akan pendidikan yang berkualitas menjadi salah satu fokus utama dalam pembangunan masa depan.\"\n",
    "\n",
    "tokens = nltk.tokenize.word_tokenize(kalimat)\n",
    "tokens"
   ]
  },
  {
   "cell_type": "markdown",
   "id": "bedad7aa-b4fa-4081-ae2d-61bd2e50a389",
   "metadata": {},
   "source": [
    "- Tokenizing with Case Folding"
   ]
  },
  {
   "cell_type": "code",
   "execution_count": 11,
   "id": "f14a738d-39ca-4a8d-9c11-9ee97fea6fbc",
   "metadata": {},
   "outputs": [
    {
     "data": {
      "text/plain": [
       "['kebutuhan',\n",
       " 'akan',\n",
       " 'pendidikan',\n",
       " 'yang',\n",
       " 'berkualitas',\n",
       " 'menjadi',\n",
       " 'salah',\n",
       " 'satu',\n",
       " 'fokus',\n",
       " 'utama',\n",
       " 'dalam',\n",
       " 'pembangunan',\n",
       " 'masa',\n",
       " 'depan']"
      ]
     },
     "execution_count": 11,
     "metadata": {},
     "output_type": "execute_result"
    }
   ],
   "source": [
    "from nltk.tokenize import word_tokenize \n",
    " \n",
    "kalimat = \"Kebutuhan akan pendidikan yang berkualitas menjadi salah satu fokus utama dalam pembangunan masa depan.\"\n",
    "kalimat = kalimat.translate(str.maketrans('','',string.punctuation)).lower()\n",
    "\n",
    "tokens = nltk.tokenize.word_tokenize(kalimat)\n",
    "\n",
    "tokens"
   ]
  },
  {
   "cell_type": "markdown",
   "id": "ab02d651-8bbc-4b79-9842-06b31c840229",
   "metadata": {},
   "source": [
    "- Frequency Distribution"
   ]
  },
  {
   "cell_type": "code",
   "execution_count": 12,
   "id": "9ee3b181-064c-43ed-bf24-441a91cc7f11",
   "metadata": {},
   "outputs": [
    {
     "name": "stdout",
     "output_type": "stream",
     "text": [
      "[('pada', 4), ('kasus', 4), ('covid19', 4), ('pertama', 2), ('di', 2), ('indonesia', 2), ('saat', 2), ('itu', 2), ('terjadi', 2), ('2020', 2), ('2', 1), ('maret', 1), ('2022', 1), ('presiden', 1), ('joko', 1), ('widodo', 1), ('mengumumkan', 1), ('dua', 1), ('sejak', 1), ('terus', 1), ('bertambah', 1), ('gelombang', 1), ('januarifebruari', 1), ('harian', 1), ('tertinggi', 1), ('30', 1), ('januari', 1), ('sebanyak', 1), ('14528', 1)]\n"
     ]
    }
   ],
   "source": [
    "from nltk.tokenize import word_tokenize\n",
    "from nltk.probability import FreqDist\n",
    "\n",
    "kalimat = \"Pada 2 Maret 2022, Presiden Joko Widodo mengumumkan dua kasus pertama Covid-19 di Indonesia. Sejak saat itu, kasus Covid-19 terus bertambah. Gelombang pertama kasus Covid-19 di Indonesia terjadi pada Januari-Februari 2020. Pada saat itu, kasus Covid-19 harian tertinggi terjadi pada 30 Januari 2020 sebanyak 14.528.\"\n",
    "kalimat = kalimat.translate(str.maketrans('','',string.punctuation)).lower()\n",
    "\n",
    "tokens = nltk.tokenize.word_tokenize(kalimat)\n",
    "kemunculan = nltk.FreqDist(tokens)\n",
    "\n",
    "print(kemunculan.most_common())"
   ]
  },
  {
   "cell_type": "markdown",
   "id": "c16e2222-d176-42c4-a132-5195d27643b6",
   "metadata": {},
   "source": [
    "- Frequency Distribution Visualization with Matplotlib"
   ]
  },
  {
   "cell_type": "code",
   "execution_count": 13,
   "id": "abe6f96a-e7c2-451b-ac4c-20ab09d305a6",
   "metadata": {},
   "outputs": [
    {
     "data": {
      "image/png": "[encoded data removed]",
      "text/plain": [
       "<Figure size 640x480 with 1 Axes>"
      ]
     },
     "metadata": {},
     "output_type": "display_data"
    }
   ],
   "source": [
    "import matplotlib.pyplot as plt\n",
    "\n",
    "kemunculan.plot(30, cumulative=False)\n",
    "\n",
    "plt.show()"
   ]
  },
  {
   "cell_type": "markdown",
   "id": "6b41d20d-d538-4248-9de3-16abaf0b1440",
   "metadata": {},
   "source": [
    "- Tokenizing: Sentences Tokenizing Using NLTK Module"
   ]
  },
  {
   "cell_type": "code",
   "execution_count": 14,
   "id": "49b45012-9a65-4e99-a13c-6461d1783d29",
   "metadata": {},
   "outputs": [
    {
     "name": "stdout",
     "output_type": "stream",
     "text": [
      "['Pada 2 Maret 2022, Presiden Joko Widodo mengumumkan dua kasus pertama Covid-19 di Indonesia.', 'Sejak saat itu, kasus Covid-19 terus bertambah.', 'Gelombang pertama kasus Covid-19 di Indonesia terjadi pada Januari-Februari 2020.', 'Pada saat itu, kasus Covid-19 harian tertinggi terjadi pada 30 Januari 2020 sebanyak 14.528.']\n"
     ]
    }
   ],
   "source": [
    "from nltk.tokenize import sent_tokenize\n",
    "\n",
    "kalimat = \"Pada 2 Maret 2022, Presiden Joko Widodo mengumumkan dua kasus pertama Covid-19 di Indonesia. Sejak saat itu, kasus Covid-19 terus bertambah. Gelombang pertama kasus Covid-19 di Indonesia terjadi pada Januari-Februari 2020. Pada saat itu, kasus Covid-19 harian tertinggi terjadi pada 30 Januari 2020 sebanyak 14.528.\"\n",
    "\n",
    "tokens = nltk.tokenize.sent_tokenize(kalimat)\n",
    "\n",
    "print(tokens)"
   ]
  },
  {
   "cell_type": "markdown",
   "id": "df3447f8-8c9b-4661-a931-2644c9cdcc70",
   "metadata": {},
   "source": [
    "- Filtering using NLTK"
   ]
  },
  {
   "cell_type": "code",
   "execution_count": 25,
   "id": "18692463-108f-4f17-b2df-7ab8b7e42ef6",
   "metadata": {},
   "outputs": [
    {
     "name": "stdout",
     "output_type": "stream",
     "text": [
      "showing info https://raw.githubusercontent.com/nltk/nltk_data/gh-pages/index.xml\n"
     ]
    },
    {
     "data": {
      "text/plain": [
       "True"
      ]
     },
     "execution_count": 25,
     "metadata": {},
     "output_type": "execute_result"
    }
   ],
   "source": [
    "##import nltk\n",
    "##nltk.download()"
   ]
  },
  {
   "cell_type": "markdown",
   "id": "595e800f-f22a-42ce-b1e4-736c71a76025",
   "metadata": {},
   "source": [
    "- Filtering using Sastrawi: Stopword List"
   ]
  },
  {
   "cell_type": "code",
   "execution_count": 35,
   "id": "bda9d6bf-abc1-4538-a1b1-c9fb7e3d2bf5",
   "metadata": {},
   "outputs": [
    {
     "name": "stdout",
     "output_type": "stream",
     "text": [
      "Requirement already satisfied: Sastrawi in c:\\users\\62895\\appdata\\local\\packages\\pythonsoftwarefoundation.python.3.11_qbz5n2kfra8p0\\localcache\\local-packages\\python311\\site-packages (1.0.1)\n"
     ]
    }
   ],
   "source": [
    "!pip install Sastrawi"
   ]
  },
  {
   "cell_type": "code",
   "execution_count": 21,
   "id": "5492f586-9a84-4516-831d-5086f8970e9e",
   "metadata": {},
   "outputs": [
    {
     "name": "stdout",
     "output_type": "stream",
     "text": [
      "['yang', 'untuk', 'pada', 'ke', 'para', 'namun', 'menurut', 'antara', 'dia', 'dua', 'ia', 'seperti', 'jika', 'jika', 'sehingga', 'kembali', 'dan', 'tidak', 'ini', 'karena', 'kepada', 'oleh', 'saat', 'harus', 'sementara', 'setelah', 'belum', 'kami', 'sekitar', 'bagi', 'serta', 'di', 'dari', 'telah', 'sebagai', 'masih', 'hal', 'ketika', 'adalah', 'itu', 'dalam', 'bisa', 'bahwa', 'atau', 'hanya', 'kita', 'dengan', 'akan', 'juga', 'ada', 'mereka', 'sudah', 'saya', 'terhadap', 'secara', 'agar', 'lain', 'anda', 'begitu', 'mengapa', 'kenapa', 'yaitu', 'yakni', 'daripada', 'itulah', 'lagi', 'maka', 'tentang', 'demi', 'dimana', 'kemana', 'pula', 'sambil', 'sebelum', 'sesudah', 'supaya', 'guna', 'kah', 'pun', 'sampai', 'sedangkan', 'selagi', 'sementara', 'tetapi', 'apakah', 'kecuali', 'sebab', 'selain', 'seolah', 'seraya', 'seterusnya', 'tanpa', 'agak', 'boleh', 'dapat', 'dsb', 'dst', 'dll', 'dahulu', 'dulunya', 'anu', 'demikian', 'tapi', 'ingin', 'juga', 'nggak', 'mari', 'nanti', 'melainkan', 'oh', 'ok', 'seharusnya', 'sebetulnya', 'setiap', 'setidaknya', 'sesuatu', 'pasti', 'saja', 'toh', 'ya', 'walau', 'tolong', 'tentu', 'amat', 'apalagi', 'bagaimanapun']\n"
     ]
    }
   ],
   "source": [
    "from Sastrawi.StopWordRemover.StopWordRemoverFactory import StopWordRemoverFactory\n",
    "\n",
    "factory = StopWordRemoverFactory()\n",
    "stopwords = factory.get_stop_words()\n",
    "print(stopwords)"
   ]
  },
  {
   "cell_type": "markdown",
   "id": "31a252c0-e461-4461-900f-630961dae66f",
   "metadata": {},
   "source": [
    "- Filtering using Sastrawi"
   ]
  },
  {
   "cell_type": "code",
   "execution_count": 22,
   "id": "86329a32-4702-451a-90c9-d79f460a6d23",
   "metadata": {},
   "outputs": [
    {
     "name": "stdout",
     "output_type": "stream",
     "text": [
      "['2', 'maret', '2022', 'presiden', 'joko', 'widodo', 'mengumumkan', 'kasus', 'pertama', 'covid19', 'indonesia', 'sejak', 'kasus', 'covid19', 'terus', 'bertambah', 'gelombang', 'pertama', 'kasus', 'covid19', 'indonesia', 'terjadi', 'januarifebruari', '2020', 'saat', 'itu', 'kasus', 'covid19', 'harian', 'tertinggi', 'terjadi', '30', 'januari', '2020', 'sebanyak', '14528']\n"
     ]
    }
   ],
   "source": [
    "from Sastrawi.StopWordRemover.StopWordRemoverFactory import StopWordRemoverFactory\n",
    "from nltk.tokenize import word_tokenize \n",
    "\n",
    "factory = StopWordRemoverFactory()\n",
    "stopword = factory.create_stop_word_remover()\n",
    "\n",
    "kalimat = \"Pada 2 Maret 2022, Presiden Joko Widodo mengumumkan dua kasus pertama Covid-19 di Indonesia. Sejak saat itu, kasus Covid-19 terus bertambah. Gelombang pertama kasus Covid-19 di Indonesia terjadi pada Januari-Februari 2020. Pada saat itu, kasus Covid-19 harian tertinggi terjadi pada 30 Januari 2020 sebanyak 14.528.\"\n",
    "kalimat = kalimat.translate(str.maketrans(\"\",\"\",string.punctuation)).lower()\n",
    "\n",
    "stop = stopword.remove(kalimat)\n",
    "tokens = nltk.tokenize.word_tokenize(stop)\n",
    "\n",
    "print(tokens)"
   ]
  },
  {
   "cell_type": "markdown",
   "id": "89a0059c-2002-4716-8643-0ae9f17c82e8",
   "metadata": {},
   "source": [
    "- Add Custom Stopword"
   ]
  },
  {
   "cell_type": "code",
   "execution_count": 29,
   "id": "6ef38daf-db8b-496b-8e98-12e69d43393f",
   "metadata": {},
   "outputs": [
    {
     "name": "stdout",
     "output_type": "stream",
     "text": [
      "['2', 'maret', '2022', 'presiden', 'joko', 'widodo', 'mengumumkan', 'kasus', 'pertama', 'covid19', 'indonesia', 'sejak', 'kasus', 'covid19', 'terus', 'bertambah', 'gelombang', 'pertama', 'kasus', 'covid19', 'indonesia', 'terjadi', 'januarifebruari', '2020', 'saat', 'itu', 'kasus', 'covid19', 'harian', 'tertinggi', 'terjadi', '30', 'januari', '2020', 'sebanyak', '14528']\n"
     ]
    }
   ],
   "source": [
    "from Sastrawi.StopWordRemover.StopWordRemoverFactory import StopWordRemoverFactory, StopWordRemover, ArrayDictionary\n",
    "from nltk.tokenize import word_tokenize \n",
    "    \n",
    "# ambil stopword bawaan\n",
    "stop_factory = StopWordRemoverFactory().get_stop_words()\n",
    "more_stopword = ['daring', 'online']\n",
    "\n",
    "kalimat = \"Pada 2 Maret 2022, Presiden Joko Widodo mengumumkan dua kasus pertama Covid-19 di Indonesia. Sejak saat itu, kasus Covid-19 terus bertambah. Gelombang pertama kasus Covid-19 di Indonesia terjadi pada Januari-Februari 2020. Pada saat itu, kasus Covid-19 harian tertinggi terjadi pada 30 Januari 2020 sebanyak 14.528.\"\n",
    "kalimat = kalimat.translate(str.maketrans('','',string.punctuation)).lower()\n",
    "\n",
    "# menggabungkan stopword\n",
    "data = stop_factory + more_stopword\n",
    "\n",
    "dictionary = ArrayDictionary(data)\n",
    "str = StopWordRemover(dictionary)\n",
    "tokens = nltk.tokenize.word_tokenize(str.remove(kalimat))\n",
    " \n",
    "print(tokens)"
   ]
  },
  {
   "cell_type": "markdown",
   "id": "322bcf03-c553-4925-b7e3-e64ec4b85561",
   "metadata": {},
   "source": [
    "- Stemming : Porter Stemming Algorithm using NLTK"
   ]
  },
  {
   "cell_type": "code",
   "execution_count": 32,
   "id": "e2a0e973-84d6-48d3-99d6-7e224a59ae73",
   "metadata": {},
   "outputs": [
    {
     "name": "stdout",
     "output_type": "stream",
     "text": [
      "love  :  love\n",
      "loving  :  love\n",
      "lovely  :  love\n",
      "loved  :  love\n",
      "loves  :  love\n"
     ]
    }
   ],
   "source": [
    "from nltk.stem import PorterStemmer\n",
    "\n",
    "ps = PorterStemmer()\n",
    "\n",
    "kata = [\"love\", \"loving\", \"lovely\", \"loved\",\"loves\"]\n",
    "\n",
    "for k in kata:\n",
    "    print(k, \" : \", ps.stem(k))"
   ]
  },
  {
   "cell_type": "markdown",
   "id": "46e164bb-d320-47b9-b0f9-7e5a971481b6",
   "metadata": {},
   "source": [
    "- Stemming Bahasa Indonesia using Sastrawi"
   ]
  },
  {
   "cell_type": "code",
   "execution_count": 34,
   "id": "c5450dcf-0ca6-4fd8-8802-7cf81f29035e",
   "metadata": {},
   "outputs": [
    {
     "data": {
      "text/plain": [
       "'pada 2 maret 2022 presiden joko widodo umum dua kasus pertama covid-19 di indonesia sejak saat itu kasus covid-19 terus tambah gelombang pertama kasus covid-19 di indonesia jadi pada januari-februari 2020 pada saat itu kasus covid-19 hari tinggi jadi pada 30 januari 2020 banyak 14 528'"
      ]
     },
     "execution_count": 34,
     "metadata": {},
     "output_type": "execute_result"
    }
   ],
   "source": [
    "from Sastrawi.Stemmer.StemmerFactory import StemmerFactory\n",
    "factory = StemmerFactory()\n",
    "stemmer = factory.create_stemmer()\n",
    " \n",
    "kalimat = \"Pada 2 Maret 2022, Presiden Joko Widodo mengumumkan dua kasus pertama Covid-19 di Indonesia. Sejak saat itu, kasus Covid-19 terus bertambah. Gelombang pertama kasus Covid-19 di Indonesia terjadi pada Januari-Februari 2020. Pada saat itu, kasus Covid-19 harian tertinggi terjadi pada 30 Januari 2020 sebanyak 14.528.\"\n",
    "\n",
    "hasil = stemmer.stem(kalimat)\n",
    "\n",
    "hasil"
   ]
  },
  {
   "cell_type": "code",
   "execution_count": null,
   "id": "8cfef993-287a-442d-9fc4-d71d3d22f862",
   "metadata": {},
   "outputs": [],
   "source": []
  }
 ],
 "metadata": {
  "kernelspec": {
   "display_name": "Python 3 (ipykernel)",
   "language": "python",
   "name": "python3"
  },
  "language_info": {
   "codemirror_mode": {
    "name": "ipython",
    "version": 3
   },
   "file_extension": ".py",
   "mimetype": "text/x-python",
   "name": "python",
   "nbconvert_exporter": "python",
   "pygments_lexer": "ipython3",
   "version": "3.11.9"
  }
 },
 "nbformat": 4,
 "nbformat_minor": 5
}
