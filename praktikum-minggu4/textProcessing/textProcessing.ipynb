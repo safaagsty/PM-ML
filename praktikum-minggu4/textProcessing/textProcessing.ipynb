{
 "cells": [
  {
   "cell_type": "markdown",
   "id": "2780da3c-3afe-4d3b-88c8-11b82d02aa86",
   "metadata": {},
   "source": [
    "## Analitika Media Sosial ##\n",
    "- Mengenal String dalam Python"
   ]
  },
  {
   "cell_type": "code",
   "execution_count": 1,
   "id": "d44e760c-940f-4fca-87e9-bc68bf8557ce",
   "metadata": {},
   "outputs": [
    {
     "name": "stdout",
     "output_type": "stream",
     "text": [
      "26\n"
     ]
    }
   ],
   "source": [
    "word = 'Saya sedang belajar Python'\n",
    "print(len(word))"
   ]
  },
  {
   "cell_type": "code",
   "execution_count": 2,
   "id": "3fb895d4-db8f-45bf-b5e8-ed18a3e4ad03",
   "metadata": {},
   "outputs": [
    {
     "name": "stdout",
     "output_type": "stream",
     "text": [
      "6\n"
     ]
    }
   ],
   "source": [
    "multiline = '''1\n",
    "2\n",
    "3\n",
    "'''\n",
    "print(len(multiline))"
   ]
  },
  {
   "cell_type": "code",
   "execution_count": 3,
   "id": "5aa0f844-0c05-46aa-adb9-68bc3b19ed89",
   "metadata": {},
   "outputs": [
    {
     "name": "stdout",
     "output_type": "stream",
     "text": [
      "17\n"
     ]
    }
   ],
   "source": [
    "str1 = '1'\n",
    "str2 = '7'\n",
    "\n",
    "print(str1 + str2)"
   ]
  },
  {
   "cell_type": "code",
   "execution_count": 4,
   "id": "bf842e2c-8e99-4295-bdbf-e1544d00c5b1",
   "metadata": {},
   "outputs": [
    {
     "name": "stdout",
     "output_type": "stream",
     "text": [
      "115\n",
      "32\n",
      "83\n"
     ]
    }
   ],
   "source": [
    "ch1 = 's'\n",
    "ch2 = ' ' #space\n",
    "ch3 = 'S'\n",
    "\n",
    "print(ord(ch1))\n",
    "print(ord(ch2))\n",
    "print(ord(ch3))"
   ]
  },
  {
   "cell_type": "code",
   "execution_count": 5,
   "id": "66d7dc90-0741-4d25-a17c-bc758a04b801",
   "metadata": {},
   "outputs": [
    {
     "name": "stdout",
     "output_type": "stream",
     "text": [
      "K\n"
     ]
    }
   ],
   "source": [
    "print(chr(75))"
   ]
  },
  {
   "cell_type": "code",
   "execution_count": 6,
   "id": "b7c81df8-00b1-4769-bf14-07d7e0c76a8d",
   "metadata": {},
   "outputs": [
    {
     "name": "stdout",
     "output_type": "stream",
     "text": [
      "Sy sdng bljr Pythn"
     ]
    }
   ],
   "source": [
    "cthString=\"Saya sedang belajar Python\"\n",
    "vokal = ['a','i','u','e','o']\n",
    "\n",
    "for i in range(len(cthString)):\n",
    "    if cthString[i].lower() in vokal:\n",
    "        continue\n",
    "    print(cthString[i], end=\"\")"
   ]
  },
  {
   "cell_type": "code",
   "execution_count": 7,
   "id": "8b3d062b-89df-4222-a9de-880e91ddcdb5",
   "metadata": {},
   "outputs": [
    {
     "name": "stdout",
     "output_type": "stream",
     "text": [
      "asneayn\n",
      "aya \n",
      "a sedang belajar Python\n",
      "Say\n",
      "Sy eagbljrPto\n"
     ]
    }
   ],
   "source": [
    "cthSlice=\"Saya sedang belajar Python\"\n",
    "\n",
    "print(cthSlice[1::4])\n",
    "print(cthSlice[1:5])\n",
    "print(cthSlice[3:])\n",
    "print(cthSlice[:3])\n",
    "print(cthSlice[::2])"
   ]
  },
  {
   "cell_type": "code",
   "execution_count": 8,
   "id": "e437b0ac-f6c5-4cda-8188-c2f7e3df02a0",
   "metadata": {},
   "outputs": [
    {
     "name": "stdout",
     "output_type": "stream",
     "text": [
      "f\n",
      "fghijklmnopqrstuvwxyz\n"
     ]
    }
   ],
   "source": [
    "alphabet = 'abcdefghijklmnopqrstuvwxyz'\n",
    "print(alphabet[5])\n",
    "\n",
    "# Untuk menghapus item pertama dari string, Anda dapat menggunakan slicing\n",
    "alphabet = alphabet[5:]\n",
    "print(alphabet)"
   ]
  },
  {
   "cell_type": "code",
   "execution_count": 9,
   "id": "0402d9d9-b0fe-4873-8ba4-180747643f04",
   "metadata": {},
   "outputs": [
    {
     "name": "stdout",
     "output_type": "stream",
     "text": [
      "['a', 'b', 'c', 'd', 'e', 'f', 'g', 'h', 'i', 'j', 'k', 'l', 'm', 'n', 'o', 'p', 'q', 'r', 's', 't', 'u', 'v', 'w', 'x', 'y', 'z']\n",
      "aSbcdefghijklmnopqrstuvwxyz\n"
     ]
    }
   ],
   "source": [
    "alphabet = list('abcdefghijklmnopqrstuvwxyz')\n",
    "print(alphabet)\n",
    "\n",
    "# Gunakan metode insert untuk menyisipkan karakter \"S\" pada indeks 1\n",
    "alphabet.insert(1, \"S\")\n",
    "\n",
    "# Konversikan kembali daftar menjadi string\n",
    "new_alphabet = ''.join(alphabet)\n",
    "print(new_alphabet)"
   ]
  },
  {
   "cell_type": "code",
   "execution_count": 12,
   "id": "d94eb991-a997-43a2-bd39-9daa1f30ceb4",
   "metadata": {},
   "outputs": [
    {
     "name": "stdout",
     "output_type": "stream",
     "text": [
      "4\n"
     ]
    }
   ],
   "source": [
    "t = \"Lebaran\"\n",
    "print(t.find('ran'))"
   ]
  },
  {
   "cell_type": "code",
   "execution_count": 13,
   "id": "4154a860-87cb-4107-89bd-a193c8405793",
   "metadata": {},
   "outputs": [
    {
     "name": "stdout",
     "output_type": "stream",
     "text": [
      "70\n",
      "115\n",
      "165\n",
      "244\n"
     ]
    }
   ],
   "source": [
    "txt = \"\"\"Pada 2 Maret 2022, Presiden Joko Widodo mengumumkan dua kasus pertama Covid-19 di Indonesia. Sejak saat itu, kasus Covid-19 terus bertambah. Gelombang pertama kasus Covid-19 di Indonesia terjadi pada Januari-Februari 2020. Pada saat itu, kasus Covid-19 harian tertinggi terjadi pada 30 Januari 2020 sebanyak 14.528.\"\"\"\n",
    "\n",
    "fnd = txt.find('Covid')\n",
    "while fnd != -1:\n",
    "    print(fnd)\n",
    "    fnd = txt.find('Covid', fnd + 1)"
   ]
  },
  {
   "cell_type": "markdown",
   "id": "b36a6007-1f2c-4c7c-80b1-cac6838094e4",
   "metadata": {},
   "source": [
    "# - Cleaning words\n",
    "  sebagai contoh :\n",
    "  RT : @alzami1986 suka menonton Attack on Titans! (進撃の巨人) #aot  setiap kamis pukul 21.00 di http://netflix.com/aot . \\\\n meski tidak suka kekerasan, tapi cukup menikmati ?! #EldiaHarusMenang melawan #Marley  A ... "
   ]
  },
  {
   "cell_type": "code",
   "execution_count": 15,
   "id": "4b8a6fa9-fc53-466a-8f9a-0813dbee8e91",
   "metadata": {},
   "outputs": [],
   "source": [
    "text = 'RT : @alzami1986 suka menonton Attack on Titans! (進撃の巨人) #aot  setiap kamis pukul 21.00 di http://netflix.com/aot . \\\\n meski tidak suka kekerasan, tapi cukup menikmati ?! #EldiaHarusMenang melawan #Marley  A ...'"
   ]
  },
  {
   "cell_type": "code",
   "execution_count": 16,
   "id": "7d9d1d32-d0ba-455a-86dc-2047d9992b1f",
   "metadata": {},
   "outputs": [
    {
     "name": "stdout",
     "output_type": "stream",
     "text": [
      "RT : @alzami1986 suka menonton Attack on Titans! (進撃の巨人) #aot  setiap kamis pukul 21.00 di http://netflix.com/aot . \\n meski tidak suka kekerasan, tapi cukup menikmati ?! #EldiaHarusMenang melawan #Marley  A ...\n"
     ]
    }
   ],
   "source": [
    "print(text)"
   ]
  },
  {
   "cell_type": "markdown",
   "id": "a17b2c80-2827-493b-b981-19051db5b76e",
   "metadata": {},
   "source": [
    "- import library"
   ]
  },
  {
   "cell_type": "code",
   "execution_count": 17,
   "id": "3350ace5-dccc-48eb-8bcc-6da0ecc1ea85",
   "metadata": {},
   "outputs": [],
   "source": [
    "import re\n",
    "import string\n",
    "import time\n",
    "from copy import deepcopy"
   ]
  },
  {
   "cell_type": "markdown",
   "id": "007a838d-e909-4089-a4e4-4ef0ddf4876d",
   "metadata": {},
   "source": [
    "- remove tab new line and back slice"
   ]
  },
  {
   "cell_type": "code",
   "execution_count": 18,
   "id": "e567bf3e-4bf5-4060-97b4-19b1d7251e14",
   "metadata": {},
   "outputs": [
    {
     "data": {
      "text/plain": [
       "'RT : @alzami1986 suka menonton Attack on Titans! (進撃の巨人) #aot  setiap kamis pukul 21.00 di http://netflix.com/aot .   meski tidak suka kekerasan, tapi cukup menikmati ?! #EldiaHarusMenang melawan #Marley  A ...'"
      ]
     },
     "execution_count": 18,
     "metadata": {},
     "output_type": "execute_result"
    }
   ],
   "source": [
    "hasil = text.replace('\\\\t',\" \").replace('\\\\n',\" \").replace('\\\\u',\" \").replace('\\\\',\"\")\n",
    "hasil"
   ]
  },
  {
   "cell_type": "markdown",
   "id": "0e12505b-8d25-4e99-9da8-f4f3cd38d3bb",
   "metadata": {},
   "source": [
    "- remove non ASCII emoticon chinese word"
   ]
  },
  {
   "cell_type": "code",
   "execution_count": 19,
   "id": "67648436-068e-44f6-8f38-169015cd55d1",
   "metadata": {},
   "outputs": [
    {
     "data": {
      "text/plain": [
       "'RT : @alzami1986 suka menonton Attack on Titans! (?????) #aot  setiap kamis pukul 21.00 di http://netflix.com/aot .   meski tidak suka kekerasan, tapi cukup menikmati ?! #EldiaHarusMenang melawan #Marley  A ...'"
      ]
     },
     "execution_count": 19,
     "metadata": {},
     "output_type": "execute_result"
    }
   ],
   "source": [
    "hasil = hasil.encode('ascii', 'replace').decode('ascii')\n",
    "hasil"
   ]
  },
  {
   "cell_type": "markdown",
   "id": "68dfc9c9-9038-4f0f-88bc-cc097da93710",
   "metadata": {},
   "source": [
    "- remove mention, link, hashtag"
   ]
  },
  {
   "cell_type": "code",
   "execution_count": 20,
   "id": "1047ff34-69c9-4bf5-8647-5472ead09df2",
   "metadata": {},
   "outputs": [],
   "source": [
    "hasil = ' '.join(re.sub(\"([@#][A-Za-z0-9]+)|(\\w+:\\/\\/\\S+)\",\" \", hasil).split())"
   ]
  },
  {
   "cell_type": "code",
   "execution_count": 21,
   "id": "2206a85a-20c0-4f36-b51a-bf967cb3ae02",
   "metadata": {},
   "outputs": [
    {
     "data": {
      "text/plain": [
       "'RT : suka menonton Attack on Titans! (?????) setiap kamis pukul 21.00 di . meski tidak suka kekerasan, tapi cukup menikmati ?! melawan A ...'"
      ]
     },
     "execution_count": 21,
     "metadata": {},
     "output_type": "execute_result"
    }
   ],
   "source": [
    "hasil"
   ]
  },
  {
   "cell_type": "markdown",
   "id": "b7a49605-c207-41ef-b0f5-0e3ff7d8960f",
   "metadata": {},
   "source": [
    "- remove RT"
   ]
  },
  {
   "cell_type": "code",
   "execution_count": 22,
   "id": "76603083-32ef-4869-a8c4-043dcd534771",
   "metadata": {},
   "outputs": [],
   "source": [
    "hasil = hasil.replace('RT : ',\"\")"
   ]
  },
  {
   "cell_type": "code",
   "execution_count": 23,
   "id": "4016ee61-8d07-4bf1-b2d1-8d6cd1e1977a",
   "metadata": {},
   "outputs": [
    {
     "data": {
      "text/plain": [
       "'suka menonton Attack on Titans! (?????) setiap kamis pukul 21.00 di . meski tidak suka kekerasan, tapi cukup menikmati ?! melawan A ...'"
      ]
     },
     "execution_count": 23,
     "metadata": {},
     "output_type": "execute_result"
    }
   ],
   "source": [
    "hasil"
   ]
  },
  {
   "cell_type": "markdown",
   "id": "5f0e212f-a902-4455-9515-b1e5948ac3dc",
   "metadata": {},
   "source": [
    "- lower"
   ]
  },
  {
   "cell_type": "code",
   "execution_count": 24,
   "id": "e82864d6-5fa4-4dfe-8782-4ed46f29a26c",
   "metadata": {},
   "outputs": [],
   "source": [
    "hasil = hasil.lower()"
   ]
  },
  {
   "cell_type": "code",
   "execution_count": 25,
   "id": "257416f6-d46a-4401-8eb7-38c0b2273638",
   "metadata": {},
   "outputs": [
    {
     "data": {
      "text/plain": [
       "'suka menonton attack on titans! (?????) setiap kamis pukul 21.00 di . meski tidak suka kekerasan, tapi cukup menikmati ?! melawan a ...'"
      ]
     },
     "execution_count": 25,
     "metadata": {},
     "output_type": "execute_result"
    }
   ],
   "source": [
    "hasil"
   ]
  },
  {
   "cell_type": "markdown",
   "id": "2ddf9a43-eb55-4639-90cc-af1084f204db",
   "metadata": {},
   "source": [
    "- remove incomplete URL"
   ]
  },
  {
   "cell_type": "code",
   "execution_count": 26,
   "id": "df4bb802-a281-437a-8580-83e87a61a898",
   "metadata": {},
   "outputs": [],
   "source": [
    "hasil = hasil.replace('http://',\"\").replace('https://',\"\")"
   ]
  },
  {
   "cell_type": "code",
   "execution_count": 27,
   "id": "c24bc8a0-b905-491f-ad51-43c8abc999f6",
   "metadata": {},
   "outputs": [
    {
     "data": {
      "text/plain": [
       "'suka menonton attack on titans! (?????) setiap kamis pukul 21.00 di . meski tidak suka kekerasan, tapi cukup menikmati ?! melawan a ...'"
      ]
     },
     "execution_count": 27,
     "metadata": {},
     "output_type": "execute_result"
    }
   ],
   "source": [
    "hasil"
   ]
  },
  {
   "cell_type": "markdown",
   "id": "10fb6902-54be-49bd-bee8-13595219254c",
   "metadata": {},
   "source": [
    "- remove number"
   ]
  },
  {
   "cell_type": "code",
   "execution_count": 28,
   "id": "2ed16b49-cb05-4916-826a-a252785594ec",
   "metadata": {},
   "outputs": [],
   "source": [
    "def remove_number(hasil):\n",
    "    return re.sub(r\"\\d+\", \"\", hasil)"
   ]
  },
  {
   "cell_type": "code",
   "execution_count": 29,
   "id": "be67f91b-92bf-4797-b216-ef654fd289da",
   "metadata": {},
   "outputs": [],
   "source": [
    "hasil = remove_number(hasil)"
   ]
  },
  {
   "cell_type": "code",
   "execution_count": 30,
   "id": "5b3f39ae-5482-488f-ad8e-02fdd9fc13b0",
   "metadata": {},
   "outputs": [
    {
     "data": {
      "text/plain": [
       "'suka menonton attack on titans! (?????) setiap kamis pukul . di . meski tidak suka kekerasan, tapi cukup menikmati ?! melawan a ...'"
      ]
     },
     "execution_count": 30,
     "metadata": {},
     "output_type": "execute_result"
    }
   ],
   "source": [
    "hasil"
   ]
  },
  {
   "cell_type": "markdown",
   "id": "689e1459-2499-4d82-814b-598956a70b13",
   "metadata": {},
   "source": [
    "- remove whitespace leading and trailing"
   ]
  },
  {
   "cell_type": "code",
   "execution_count": 31,
   "id": "63bb19b1-2f38-4af0-9f07-9d3a6493a35d",
   "metadata": {},
   "outputs": [],
   "source": [
    "def remove_whitespace(hasil):\n",
    "    return hasil.strip()"
   ]
  },
  {
   "cell_type": "code",
   "execution_count": 32,
   "id": "bf85512f-6c9b-49ae-86d0-8d9f3ec1618c",
   "metadata": {},
   "outputs": [],
   "source": [
    "hasil = remove_whitespace(hasil)"
   ]
  },
  {
   "cell_type": "code",
   "execution_count": 33,
   "id": "2412b23f-afce-47cb-b1a4-2f62b42e0d45",
   "metadata": {},
   "outputs": [
    {
     "data": {
      "text/plain": [
       "'RT : @alzami1986 suka menonton Attack on Titans! (進撃の巨人) #aot  setiap kamis pukul 21.00 di http://netflix.com/aot . \\\\n meski tidak suka kekerasan, tapi cukup menikmati ?! #EldiaHarusMenang melawan #Marley  A ...'"
      ]
     },
     "execution_count": 33,
     "metadata": {},
     "output_type": "execute_result"
    }
   ],
   "source": [
    "text"
   ]
  },
  {
   "cell_type": "code",
   "execution_count": 34,
   "id": "a5e81193-4b03-4717-a2c9-43ce6fbc1999",
   "metadata": {},
   "outputs": [
    {
     "data": {
      "text/plain": [
       "'suka menonton attack on titans! (?????) setiap kamis pukul . di . meski tidak suka kekerasan, tapi cukup menikmati ?! melawan a ...'"
      ]
     },
     "execution_count": 34,
     "metadata": {},
     "output_type": "execute_result"
    }
   ],
   "source": [
    "hasil"
   ]
  },
  {
   "cell_type": "markdown",
   "id": "656a4444-a940-4005-aaeb-660a0591b129",
   "metadata": {},
   "source": [
    "- Remove multiple whiespace into single whitespace"
   ]
  },
  {
   "cell_type": "code",
   "execution_count": 35,
   "id": "80cd04bb-78ca-4bc8-be57-22a0831ee702",
   "metadata": {},
   "outputs": [],
   "source": [
    "def remove_whitespace_multi(hasil):\n",
    "    return re.sub('\\s+',' ',hasil)"
   ]
  },
  {
   "cell_type": "code",
   "execution_count": 36,
   "id": "b6f9dde6-cec3-48f2-8212-09d95ae490ac",
   "metadata": {},
   "outputs": [],
   "source": [
    "hasil = remove_whitespace_multi(hasil)"
   ]
  },
  {
   "cell_type": "code",
   "execution_count": 37,
   "id": "caf2617a-d9d0-4684-9c79-732dbf94f1a2",
   "metadata": {},
   "outputs": [
    {
     "data": {
      "text/plain": [
       "'suka menonton attack on titans! (?????) setiap kamis pukul . di . meski tidak suka kekerasan, tapi cukup menikmati ?! melawan a ...'"
      ]
     },
     "execution_count": 37,
     "metadata": {},
     "output_type": "execute_result"
    }
   ],
   "source": [
    "hasil"
   ]
  },
  {
   "cell_type": "markdown",
   "id": "25ae9aa5-c1c6-4b26-971c-182337339ba6",
   "metadata": {},
   "source": [
    "- remove single char"
   ]
  },
  {
   "cell_type": "code",
   "execution_count": 38,
   "id": "de694549-8f4a-4817-a730-a1a393ad9bd2",
   "metadata": {},
   "outputs": [],
   "source": [
    "def remove_single_char(hasil):\n",
    "    return re.sub(r\"\\b[a-zA-Z]\\b\", \"\", hasil)"
   ]
  },
  {
   "cell_type": "code",
   "execution_count": 39,
   "id": "2f42445c-8177-47f5-902b-27531a5dd61f",
   "metadata": {},
   "outputs": [],
   "source": [
    "hasil = remove_single_char(hasil)"
   ]
  },
  {
   "cell_type": "code",
   "execution_count": 40,
   "id": "0d919dcc-6ae0-42ec-94f8-e36f2c998e7e",
   "metadata": {},
   "outputs": [
    {
     "data": {
      "text/plain": [
       "'suka menonton attack on titans! (?????) setiap kamis pukul . di . meski tidak suka kekerasan, tapi cukup menikmati ?! melawan  ...'"
      ]
     },
     "execution_count": 40,
     "metadata": {},
     "output_type": "execute_result"
    }
   ],
   "source": [
    "hasil"
   ]
  },
  {
   "cell_type": "markdown",
   "id": "eb85de8f-0998-4ece-b761-683dd159d1ad",
   "metadata": {},
   "source": [
    "- remove excessive dot"
   ]
  },
  {
   "cell_type": "code",
   "execution_count": 41,
   "id": "3b43cd9d-20d7-44a0-81c7-cffdb71566fa",
   "metadata": {},
   "outputs": [],
   "source": [
    "def remove_excessive_dot(hasil):\n",
    "    return hasil.replace('...',\" \")"
   ]
  },
  {
   "cell_type": "code",
   "execution_count": 42,
   "id": "95425e8f-51e8-4c69-804c-a2bf42588ffa",
   "metadata": {},
   "outputs": [],
   "source": [
    "hasil = remove_excessive_dot(hasil)"
   ]
  },
  {
   "cell_type": "code",
   "execution_count": 43,
   "id": "e600f415-05e7-46b5-a10f-635bac9c1fa7",
   "metadata": {},
   "outputs": [
    {
     "data": {
      "text/plain": [
       "'suka menonton attack on titans! (?????) setiap kamis pukul . di . meski tidak suka kekerasan, tapi cukup menikmati ?! melawan   '"
      ]
     },
     "execution_count": 43,
     "metadata": {},
     "output_type": "execute_result"
    }
   ],
   "source": [
    "hasil"
   ]
  },
  {
   "cell_type": "markdown",
   "id": "9f1b1107-2a42-4ba6-a122-32be720e74b2",
   "metadata": {},
   "source": [
    "- remove punctuation"
   ]
  },
  {
   "cell_type": "code",
   "execution_count": 44,
   "id": "97e8dc7b-e4c2-4e35-8714-50d2fa32af5a",
   "metadata": {},
   "outputs": [],
   "source": [
    "def remove_punctuation(hasil):\n",
    "    return hasil.translate(str.maketrans(\"\",\"\",string.punctuation))"
   ]
  },
  {
   "cell_type": "code",
   "execution_count": 45,
   "id": "9af7b87c-319d-4f55-b6c2-b39232aca9ed",
   "metadata": {},
   "outputs": [],
   "source": [
    "hasil = remove_punctuation(hasil)"
   ]
  },
  {
   "cell_type": "code",
   "execution_count": 46,
   "id": "0a4a2a13-a62a-4a5d-8815-b1215778911a",
   "metadata": {},
   "outputs": [
    {
     "data": {
      "text/plain": [
       "'RT : @alzami1986 suka menonton Attack on Titans! (進撃の巨人) #aot  setiap kamis pukul 21.00 di http://netflix.com/aot . \\\\n meski tidak suka kekerasan, tapi cukup menikmati ?! #EldiaHarusMenang melawan #Marley  A ...'"
      ]
     },
     "execution_count": 46,
     "metadata": {},
     "output_type": "execute_result"
    }
   ],
   "source": [
    "text"
   ]
  },
  {
   "cell_type": "code",
   "execution_count": 47,
   "id": "78c2e099-4a69-42b3-b8c4-1e80f437f25e",
   "metadata": {},
   "outputs": [
    {
     "data": {
      "text/plain": [
       "'suka menonton attack on titans  setiap kamis pukul  di  meski tidak suka kekerasan tapi cukup menikmati  melawan   '"
      ]
     },
     "execution_count": 47,
     "metadata": {},
     "output_type": "execute_result"
    }
   ],
   "source": [
    "hasil"
   ]
  },
  {
   "cell_type": "markdown",
   "id": "1d60747d-65a7-4827-9bfa-a86de46c6062",
   "metadata": {},
   "source": [
    "- remove excessive whitespace"
   ]
  },
  {
   "cell_type": "code",
   "execution_count": 48,
   "id": "df4dc8a4-4cd2-4fdc-911d-65fcc486dd42",
   "metadata": {},
   "outputs": [],
   "source": [
    "document = \" saya                    suka matcha     enak bangett    \""
   ]
  },
  {
   "cell_type": "code",
   "execution_count": 49,
   "id": "4b3a59cb-47da-4084-a7d5-056c987be18d",
   "metadata": {},
   "outputs": [],
   "source": [
    "nowhite = ' '.join(document.split())"
   ]
  },
  {
   "cell_type": "code",
   "execution_count": 50,
   "id": "3fe9bc07-c10a-4cfe-a42e-4ce2c7a7c113",
   "metadata": {},
   "outputs": [
    {
     "data": {
      "text/plain": [
       "'saya suka matcha enak bangett'"
      ]
     },
     "execution_count": 50,
     "metadata": {},
     "output_type": "execute_result"
    }
   ],
   "source": [
    "nowhite"
   ]
  },
  {
   "cell_type": "code",
   "execution_count": null,
   "id": "27793d4f-649d-4ea6-8c04-cb20d2891760",
   "metadata": {},
   "outputs": [],
   "source": []
  }
 ],
 "metadata": {
  "kernelspec": {
   "display_name": "Python 3 (ipykernel)",
   "language": "python",
   "name": "python3"
  },
  "language_info": {
   "codemirror_mode": {
    "name": "ipython",
    "version": 3
   },
   "file_extension": ".py",
   "mimetype": "text/x-python",
   "name": "python",
   "nbconvert_exporter": "python",
   "pygments_lexer": "ipython3",
   "version": "3.11.9"
  }
 },
 "nbformat": 4,
 "nbformat_minor": 5
}
