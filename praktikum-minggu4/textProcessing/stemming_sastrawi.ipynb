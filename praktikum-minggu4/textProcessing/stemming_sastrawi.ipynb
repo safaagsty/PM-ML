{
 "cells": [
  {
   "cell_type": "markdown",
   "id": "117a04a1-53d2-42d1-8d6a-33f15fc5dc0c",
   "metadata": {},
   "source": [
    "## Stemming menggunakan Sastrawi ##\n",
    "- load dataset"
   ]
  },
  {
   "cell_type": "code",
   "execution_count": 1,
   "id": "a76a61b6-a447-4e79-b8ac-ac2b161873df",
   "metadata": {},
   "outputs": [],
   "source": [
    "import pandas as pd"
   ]
  },
  {
   "cell_type": "code",
   "execution_count": 2,
   "id": "d03c508c-f5db-46c1-9616-cc0d060bbbe9",
   "metadata": {},
   "outputs": [],
   "source": [
    "dataset = pd.read_csv('clean_dataset.csv', sep=';')"
   ]
  },
  {
   "cell_type": "code",
   "execution_count": 3,
   "id": "ddb2149c-303d-4f89-9810-20d278323f0c",
   "metadata": {},
   "outputs": [
    {
     "data": {
      "text/html": [
       "<div>\n",
       "<style scoped>\n",
       "    .dataframe tbody tr th:only-of-type {\n",
       "        vertical-align: middle;\n",
       "    }\n",
       "\n",
       "    .dataframe tbody tr th {\n",
       "        vertical-align: top;\n",
       "    }\n",
       "\n",
       "    .dataframe thead th {\n",
       "        text-align: right;\n",
       "    }\n",
       "</style>\n",
       "<table border=\"1\" class=\"dataframe\">\n",
       "  <thead>\n",
       "    <tr style=\"text-align: right;\">\n",
       "      <th></th>\n",
       "      <th>Unnamed: 0</th>\n",
       "      <th>userName</th>\n",
       "      <th>content</th>\n",
       "      <th>step01</th>\n",
       "      <th>tokens</th>\n",
       "    </tr>\n",
       "  </thead>\n",
       "  <tbody>\n",
       "    <tr>\n",
       "      <th>0</th>\n",
       "      <td>0</td>\n",
       "      <td>Anggun Virly channel</td>\n",
       "      <td>Kode billing tidak ada</td>\n",
       "      <td>kode billing tidak ada</td>\n",
       "      <td>['kode', 'billing', 'tidak', 'ada']</td>\n",
       "    </tr>\n",
       "    <tr>\n",
       "      <th>1</th>\n",
       "      <td>1</td>\n",
       "      <td>Juni Arjuna</td>\n",
       "      <td>App nya saya mohon di perbaiki,saya udh log-in...</td>\n",
       "      <td>app nya saya mohon di perbaiki saya udh log in...</td>\n",
       "      <td>['app', 'nya', 'saya', 'mohon', 'di', 'perbaik...</td>\n",
       "    </tr>\n",
       "    <tr>\n",
       "      <th>2</th>\n",
       "      <td>2</td>\n",
       "      <td>Khamdan Ambari</td>\n",
       "      <td>Maksudnya apa ini qplikasi, kirain bisa memban...</td>\n",
       "      <td>maksudnya apa ini qplikasi kirain bisa membant...</td>\n",
       "      <td>['maksudnya', 'apa', 'ini', 'qplikasi', 'kirai...</td>\n",
       "    </tr>\n",
       "    <tr>\n",
       "      <th>3</th>\n",
       "      <td>3</td>\n",
       "      <td>Antika Yosa Fitri</td>\n",
       "      <td>Bikin aplikasi, bukan memudahkan tetapi bikin ...</td>\n",
       "      <td>bikin aplikasi bukan memudahkan tetapi bikin t...</td>\n",
       "      <td>['bikin', 'aplikasi', 'bukan', 'memudahkan', '...</td>\n",
       "    </tr>\n",
       "    <tr>\n",
       "      <th>4</th>\n",
       "      <td>4</td>\n",
       "      <td>PENDAKI PAM chanel</td>\n",
       "      <td>aplikasi makan sagu Rakyat miskin</td>\n",
       "      <td>aplikasi makan sagu rakyat miskin</td>\n",
       "      <td>['aplikasi', 'makan', 'sagu', 'rakyat', 'miskin']</td>\n",
       "    </tr>\n",
       "  </tbody>\n",
       "</table>\n",
       "</div>"
      ],
      "text/plain": [
       "   Unnamed: 0              userName  \\\n",
       "0           0  Anggun Virly channel   \n",
       "1           1           Juni Arjuna   \n",
       "2           2        Khamdan Ambari   \n",
       "3           3     Antika Yosa Fitri   \n",
       "4           4    PENDAKI PAM chanel   \n",
       "\n",
       "                                             content  \\\n",
       "0                             Kode billing tidak ada   \n",
       "1  App nya saya mohon di perbaiki,saya udh log-in...   \n",
       "2  Maksudnya apa ini qplikasi, kirain bisa memban...   \n",
       "3  Bikin aplikasi, bukan memudahkan tetapi bikin ...   \n",
       "4                  aplikasi makan sagu Rakyat miskin   \n",
       "\n",
       "                                              step01  \\\n",
       "0                             kode billing tidak ada   \n",
       "1  app nya saya mohon di perbaiki saya udh log in...   \n",
       "2  maksudnya apa ini qplikasi kirain bisa membant...   \n",
       "3  bikin aplikasi bukan memudahkan tetapi bikin t...   \n",
       "4                  aplikasi makan sagu rakyat miskin   \n",
       "\n",
       "                                              tokens  \n",
       "0                ['kode', 'billing', 'tidak', 'ada']  \n",
       "1  ['app', 'nya', 'saya', 'mohon', 'di', 'perbaik...  \n",
       "2  ['maksudnya', 'apa', 'ini', 'qplikasi', 'kirai...  \n",
       "3  ['bikin', 'aplikasi', 'bukan', 'memudahkan', '...  \n",
       "4  ['aplikasi', 'makan', 'sagu', 'rakyat', 'miskin']  "
      ]
     },
     "execution_count": 3,
     "metadata": {},
     "output_type": "execute_result"
    }
   ],
   "source": [
    "dataset.head()"
   ]
  },
  {
   "cell_type": "code",
   "execution_count": 4,
   "id": "681518a3-a012-444d-a275-9a0d611a7593",
   "metadata": {},
   "outputs": [],
   "source": [
    "from Sastrawi.Stemmer.StemmerFactory import StemmerFactory\n",
    "factory = StemmerFactory()\n",
    "stemmer = factory.create_stemmer()"
   ]
  },
  {
   "cell_type": "markdown",
   "id": "a2bc4c54-253a-47dd-8d95-0376a8ca5823",
   "metadata": {},
   "source": [
    "- hapus stop words"
   ]
  },
  {
   "cell_type": "code",
   "execution_count": null,
   "id": "edaa274a-08ec-4818-98e0-0600d9103b03",
   "metadata": {},
   "outputs": [],
   "source": []
  }
 ],
 "metadata": {
  "kernelspec": {
   "display_name": "Python 3 (ipykernel)",
   "language": "python",
   "name": "python3"
  },
  "language_info": {
   "codemirror_mode": {
    "name": "ipython",
    "version": 3
   },
   "file_extension": ".py",
   "mimetype": "text/x-python",
   "name": "python",
   "nbconvert_exporter": "python",
   "pygments_lexer": "ipython3",
   "version": "3.11.9"
  }
 },
 "nbformat": 4,
 "nbformat_minor": 5
}
